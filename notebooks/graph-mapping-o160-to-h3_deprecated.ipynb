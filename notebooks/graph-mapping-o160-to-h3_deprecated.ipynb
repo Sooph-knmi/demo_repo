{
 "cells": [
  {
   "cell_type": "markdown",
   "id": "sized-compatibility",
   "metadata": {},
   "source": [
    "# Nearest-neighbor graph mappings"
   ]
  },
  {
   "cell_type": "code",
   "execution_count": 1,
   "id": "charitable-roots",
   "metadata": {},
   "outputs": [],
   "source": [
    "import os\n",
    "\n",
    "import xarray as xr\n",
    "import numpy as np"
   ]
  },
  {
   "cell_type": "code",
   "execution_count": 2,
   "id": "ranging-equation",
   "metadata": {},
   "outputs": [],
   "source": [
    "import cartopy.crs as ccrs\n",
    "import cartopy.feature as cf\n",
    "\n",
    "import matplotlib.patches as mpatches\n",
    "import matplotlib.pyplot as plt\n",
    "\n",
    "%matplotlib inline\n",
    "%config InlineBackend.figure_format='retina'"
   ]
  },
  {
   "cell_type": "code",
   "execution_count": 3,
   "id": "individual-drain",
   "metadata": {},
   "outputs": [],
   "source": [
    "from sklearn.neighbors import NearestNeighbors"
   ]
  },
  {
   "cell_type": "code",
   "execution_count": 4,
   "id": "enclosed-chrome",
   "metadata": {},
   "outputs": [
    {
     "name": "stderr",
     "output_type": "stream",
     "text": [
      "/perm/pamc/conda/envs/gnn-pyg-2.1/lib/python3.9/site-packages/tqdm/auto.py:22: TqdmWarning: IProgress not found. Please update jupyter and ipywidgets. See https://ipywidgets.readthedocs.io/en/stable/user_install.html\n",
      "  from .autonotebook import tqdm as notebook_tqdm\n",
      "/perm/pamc/conda/envs/gnn-pyg-2.1/lib/python3.9/site-packages/neptune/internal/backends/hosted_client.py:48: NeptuneDeprecationWarning: The 'neptune-client' package has been deprecated and will be removed in the future. Install the 'neptune' package instead. For more, see https://docs.neptune.ai/setup/upgrading/\n",
      "  from neptune.version import version as neptune_client_version\n",
      "/perm/pamc/conda/envs/gnn-pyg-2.1/lib/python3.9/site-packages/pytorch_lightning/loggers/neptune.py:39: NeptuneDeprecationWarning: You're importing the Neptune client library via the deprecated `neptune.new` module, which will be removed in a future release. Import directly from `neptune` instead.\n",
      "  from neptune import new as neptune\n"
     ]
    }
   ],
   "source": [
    "import torch\n",
    "from torch_geometric.data import HeteroData "
   ]
  },
  {
   "cell_type": "code",
   "execution_count": 5,
   "id": "twenty-classic",
   "metadata": {},
   "outputs": [],
   "source": [
    "import h3"
   ]
  },
  {
   "cell_type": "code",
   "execution_count": 6,
   "id": "identical-question",
   "metadata": {},
   "outputs": [],
   "source": [
    "NUM_ERA_NEIGHBORS = 9\n",
    "NUM_H3_NEIGHBORS = 7"
   ]
  },
  {
   "cell_type": "markdown",
   "id": "eleven-variable",
   "metadata": {},
   "source": [
    "## ERA5 -> O32"
   ]
  },
  {
   "cell_type": "code",
   "execution_count": 7,
   "id": "suffering-berry",
   "metadata": {},
   "outputs": [
    {
     "data": {
      "text/html": [
       "<div><svg style=\"position: absolute; width: 0; height: 0; overflow: hidden\">\n",
       "<defs>\n",
       "<symbol id=\"icon-database\" viewBox=\"0 0 32 32\">\n",
       "<path d=\"M16 0c-8.837 0-16 2.239-16 5v4c0 2.761 7.163 5 16 5s16-2.239 16-5v-4c0-2.761-7.163-5-16-5z\"></path>\n",
       "<path d=\"M16 17c-8.837 0-16-2.239-16-5v6c0 2.761 7.163 5 16 5s16-2.239 16-5v-6c0 2.761-7.163 5-16 5z\"></path>\n",
       "<path d=\"M16 26c-8.837 0-16-2.239-16-5v6c0 2.761 7.163 5 16 5s16-2.239 16-5v-6c0 2.761-7.163 5-16 5z\"></path>\n",
       "</symbol>\n",
       "<symbol id=\"icon-file-text2\" viewBox=\"0 0 32 32\">\n",
       "<path d=\"M28.681 7.159c-0.694-0.947-1.662-2.053-2.724-3.116s-2.169-2.030-3.116-2.724c-1.612-1.182-2.393-1.319-2.841-1.319h-15.5c-1.378 0-2.5 1.121-2.5 2.5v27c0 1.378 1.122 2.5 2.5 2.5h23c1.378 0 2.5-1.122 2.5-2.5v-19.5c0-0.448-0.137-1.23-1.319-2.841zM24.543 5.457c0.959 0.959 1.712 1.825 2.268 2.543h-4.811v-4.811c0.718 0.556 1.584 1.309 2.543 2.268zM28 29.5c0 0.271-0.229 0.5-0.5 0.5h-23c-0.271 0-0.5-0.229-0.5-0.5v-27c0-0.271 0.229-0.5 0.5-0.5 0 0 15.499-0 15.5 0v7c0 0.552 0.448 1 1 1h7v19.5z\"></path>\n",
       "<path d=\"M23 26h-14c-0.552 0-1-0.448-1-1s0.448-1 1-1h14c0.552 0 1 0.448 1 1s-0.448 1-1 1z\"></path>\n",
       "<path d=\"M23 22h-14c-0.552 0-1-0.448-1-1s0.448-1 1-1h14c0.552 0 1 0.448 1 1s-0.448 1-1 1z\"></path>\n",
       "<path d=\"M23 18h-14c-0.552 0-1-0.448-1-1s0.448-1 1-1h14c0.552 0 1 0.448 1 1s-0.448 1-1 1z\"></path>\n",
       "</symbol>\n",
       "</defs>\n",
       "</svg>\n",
       "<style>/* CSS stylesheet for displaying xarray objects in jupyterlab.\n",
       " *\n",
       " */\n",
       "\n",
       ":root {\n",
       "  --xr-font-color0: var(--jp-content-font-color0, rgba(0, 0, 0, 1));\n",
       "  --xr-font-color2: var(--jp-content-font-color2, rgba(0, 0, 0, 0.54));\n",
       "  --xr-font-color3: var(--jp-content-font-color3, rgba(0, 0, 0, 0.38));\n",
       "  --xr-border-color: var(--jp-border-color2, #e0e0e0);\n",
       "  --xr-disabled-color: var(--jp-layout-color3, #bdbdbd);\n",
       "  --xr-background-color: var(--jp-layout-color0, white);\n",
       "  --xr-background-color-row-even: var(--jp-layout-color1, white);\n",
       "  --xr-background-color-row-odd: var(--jp-layout-color2, #eeeeee);\n",
       "}\n",
       "\n",
       "html[theme=dark],\n",
       "body[data-theme=dark],\n",
       "body.vscode-dark {\n",
       "  --xr-font-color0: rgba(255, 255, 255, 1);\n",
       "  --xr-font-color2: rgba(255, 255, 255, 0.54);\n",
       "  --xr-font-color3: rgba(255, 255, 255, 0.38);\n",
       "  --xr-border-color: #1F1F1F;\n",
       "  --xr-disabled-color: #515151;\n",
       "  --xr-background-color: #111111;\n",
       "  --xr-background-color-row-even: #111111;\n",
       "  --xr-background-color-row-odd: #313131;\n",
       "}\n",
       "\n",
       ".xr-wrap {\n",
       "  display: block !important;\n",
       "  min-width: 300px;\n",
       "  max-width: 700px;\n",
       "}\n",
       "\n",
       ".xr-text-repr-fallback {\n",
       "  /* fallback to plain text repr when CSS is not injected (untrusted notebook) */\n",
       "  display: none;\n",
       "}\n",
       "\n",
       ".xr-header {\n",
       "  padding-top: 6px;\n",
       "  padding-bottom: 6px;\n",
       "  margin-bottom: 4px;\n",
       "  border-bottom: solid 1px var(--xr-border-color);\n",
       "}\n",
       "\n",
       ".xr-header > div,\n",
       ".xr-header > ul {\n",
       "  display: inline;\n",
       "  margin-top: 0;\n",
       "  margin-bottom: 0;\n",
       "}\n",
       "\n",
       ".xr-obj-type,\n",
       ".xr-array-name {\n",
       "  margin-left: 2px;\n",
       "  margin-right: 10px;\n",
       "}\n",
       "\n",
       ".xr-obj-type {\n",
       "  color: var(--xr-font-color2);\n",
       "}\n",
       "\n",
       ".xr-sections {\n",
       "  padding-left: 0 !important;\n",
       "  display: grid;\n",
       "  grid-template-columns: 150px auto auto 1fr 20px 20px;\n",
       "}\n",
       "\n",
       ".xr-section-item {\n",
       "  display: contents;\n",
       "}\n",
       "\n",
       ".xr-section-item input {\n",
       "  display: none;\n",
       "}\n",
       "\n",
       ".xr-section-item input + label {\n",
       "  color: var(--xr-disabled-color);\n",
       "}\n",
       "\n",
       ".xr-section-item input:enabled + label {\n",
       "  cursor: pointer;\n",
       "  color: var(--xr-font-color2);\n",
       "}\n",
       "\n",
       ".xr-section-item input:enabled + label:hover {\n",
       "  color: var(--xr-font-color0);\n",
       "}\n",
       "\n",
       ".xr-section-summary {\n",
       "  grid-column: 1;\n",
       "  color: var(--xr-font-color2);\n",
       "  font-weight: 500;\n",
       "}\n",
       "\n",
       ".xr-section-summary > span {\n",
       "  display: inline-block;\n",
       "  padding-left: 0.5em;\n",
       "}\n",
       "\n",
       ".xr-section-summary-in:disabled + label {\n",
       "  color: var(--xr-font-color2);\n",
       "}\n",
       "\n",
       ".xr-section-summary-in + label:before {\n",
       "  display: inline-block;\n",
       "  content: '►';\n",
       "  font-size: 11px;\n",
       "  width: 15px;\n",
       "  text-align: center;\n",
       "}\n",
       "\n",
       ".xr-section-summary-in:disabled + label:before {\n",
       "  color: var(--xr-disabled-color);\n",
       "}\n",
       "\n",
       ".xr-section-summary-in:checked + label:before {\n",
       "  content: '▼';\n",
       "}\n",
       "\n",
       ".xr-section-summary-in:checked + label > span {\n",
       "  display: none;\n",
       "}\n",
       "\n",
       ".xr-section-summary,\n",
       ".xr-section-inline-details {\n",
       "  padding-top: 4px;\n",
       "  padding-bottom: 4px;\n",
       "}\n",
       "\n",
       ".xr-section-inline-details {\n",
       "  grid-column: 2 / -1;\n",
       "}\n",
       "\n",
       ".xr-section-details {\n",
       "  display: none;\n",
       "  grid-column: 1 / -1;\n",
       "  margin-bottom: 5px;\n",
       "}\n",
       "\n",
       ".xr-section-summary-in:checked ~ .xr-section-details {\n",
       "  display: contents;\n",
       "}\n",
       "\n",
       ".xr-array-wrap {\n",
       "  grid-column: 1 / -1;\n",
       "  display: grid;\n",
       "  grid-template-columns: 20px auto;\n",
       "}\n",
       "\n",
       ".xr-array-wrap > label {\n",
       "  grid-column: 1;\n",
       "  vertical-align: top;\n",
       "}\n",
       "\n",
       ".xr-preview {\n",
       "  color: var(--xr-font-color3);\n",
       "}\n",
       "\n",
       ".xr-array-preview,\n",
       ".xr-array-data {\n",
       "  padding: 0 5px !important;\n",
       "  grid-column: 2;\n",
       "}\n",
       "\n",
       ".xr-array-data,\n",
       ".xr-array-in:checked ~ .xr-array-preview {\n",
       "  display: none;\n",
       "}\n",
       "\n",
       ".xr-array-in:checked ~ .xr-array-data,\n",
       ".xr-array-preview {\n",
       "  display: inline-block;\n",
       "}\n",
       "\n",
       ".xr-dim-list {\n",
       "  display: inline-block !important;\n",
       "  list-style: none;\n",
       "  padding: 0 !important;\n",
       "  margin: 0;\n",
       "}\n",
       "\n",
       ".xr-dim-list li {\n",
       "  display: inline-block;\n",
       "  padding: 0;\n",
       "  margin: 0;\n",
       "}\n",
       "\n",
       ".xr-dim-list:before {\n",
       "  content: '(';\n",
       "}\n",
       "\n",
       ".xr-dim-list:after {\n",
       "  content: ')';\n",
       "}\n",
       "\n",
       ".xr-dim-list li:not(:last-child):after {\n",
       "  content: ',';\n",
       "  padding-right: 5px;\n",
       "}\n",
       "\n",
       ".xr-has-index {\n",
       "  font-weight: bold;\n",
       "}\n",
       "\n",
       ".xr-var-list,\n",
       ".xr-var-item {\n",
       "  display: contents;\n",
       "}\n",
       "\n",
       ".xr-var-item > div,\n",
       ".xr-var-item label,\n",
       ".xr-var-item > .xr-var-name span {\n",
       "  background-color: var(--xr-background-color-row-even);\n",
       "  margin-bottom: 0;\n",
       "}\n",
       "\n",
       ".xr-var-item > .xr-var-name:hover span {\n",
       "  padding-right: 5px;\n",
       "}\n",
       "\n",
       ".xr-var-list > li:nth-child(odd) > div,\n",
       ".xr-var-list > li:nth-child(odd) > label,\n",
       ".xr-var-list > li:nth-child(odd) > .xr-var-name span {\n",
       "  background-color: var(--xr-background-color-row-odd);\n",
       "}\n",
       "\n",
       ".xr-var-name {\n",
       "  grid-column: 1;\n",
       "}\n",
       "\n",
       ".xr-var-dims {\n",
       "  grid-column: 2;\n",
       "}\n",
       "\n",
       ".xr-var-dtype {\n",
       "  grid-column: 3;\n",
       "  text-align: right;\n",
       "  color: var(--xr-font-color2);\n",
       "}\n",
       "\n",
       ".xr-var-preview {\n",
       "  grid-column: 4;\n",
       "}\n",
       "\n",
       ".xr-var-name,\n",
       ".xr-var-dims,\n",
       ".xr-var-dtype,\n",
       ".xr-preview,\n",
       ".xr-attrs dt {\n",
       "  white-space: nowrap;\n",
       "  overflow: hidden;\n",
       "  text-overflow: ellipsis;\n",
       "  padding-right: 10px;\n",
       "}\n",
       "\n",
       ".xr-var-name:hover,\n",
       ".xr-var-dims:hover,\n",
       ".xr-var-dtype:hover,\n",
       ".xr-attrs dt:hover {\n",
       "  overflow: visible;\n",
       "  width: auto;\n",
       "  z-index: 1;\n",
       "}\n",
       "\n",
       ".xr-var-attrs,\n",
       ".xr-var-data {\n",
       "  display: none;\n",
       "  background-color: var(--xr-background-color) !important;\n",
       "  padding-bottom: 5px !important;\n",
       "}\n",
       "\n",
       ".xr-var-attrs-in:checked ~ .xr-var-attrs,\n",
       ".xr-var-data-in:checked ~ .xr-var-data {\n",
       "  display: block;\n",
       "}\n",
       "\n",
       ".xr-var-data > table {\n",
       "  float: right;\n",
       "}\n",
       "\n",
       ".xr-var-name span,\n",
       ".xr-var-data,\n",
       ".xr-attrs {\n",
       "  padding-left: 25px !important;\n",
       "}\n",
       "\n",
       ".xr-attrs,\n",
       ".xr-var-attrs,\n",
       ".xr-var-data {\n",
       "  grid-column: 1 / -1;\n",
       "}\n",
       "\n",
       "dl.xr-attrs {\n",
       "  padding: 0;\n",
       "  margin: 0;\n",
       "  display: grid;\n",
       "  grid-template-columns: 125px auto;\n",
       "}\n",
       "\n",
       ".xr-attrs dt,\n",
       ".xr-attrs dd {\n",
       "  padding: 0;\n",
       "  margin: 0;\n",
       "  float: left;\n",
       "  padding-right: 10px;\n",
       "  width: auto;\n",
       "}\n",
       "\n",
       ".xr-attrs dt {\n",
       "  font-weight: normal;\n",
       "  grid-column: 1;\n",
       "}\n",
       "\n",
       ".xr-attrs dt:hover span {\n",
       "  display: inline-block;\n",
       "  background: var(--xr-background-color);\n",
       "  padding-right: 10px;\n",
       "}\n",
       "\n",
       ".xr-attrs dd {\n",
       "  grid-column: 2;\n",
       "  white-space: pre-wrap;\n",
       "  word-break: break-all;\n",
       "}\n",
       "\n",
       ".xr-icon-database,\n",
       ".xr-icon-file-text2 {\n",
       "  display: inline-block;\n",
       "  vertical-align: middle;\n",
       "  width: 1em;\n",
       "  height: 1.5em !important;\n",
       "  stroke-width: 0;\n",
       "  stroke: currentColor;\n",
       "  fill: currentColor;\n",
       "}\n",
       "</style><pre class='xr-text-repr-fallback'>&lt;xarray.Dataset&gt;\n",
       "Dimensions:     (values: 108160)\n",
       "Coordinates:\n",
       "    number      int64 0\n",
       "    time        datetime64[ns] 2021-03-01\n",
       "    step        timedelta64[ns] 00:00:00\n",
       "    surface     float64 0.0\n",
       "    latitude    (values) float64 89.57 89.57 89.57 ... -89.57 -89.57 -89.57\n",
       "    longitude   (values) float64 0.0 18.0 36.0 54.0 ... 288.0 306.0 324.0 342.0\n",
       "    valid_time  datetime64[ns] 2021-03-01\n",
       "Dimensions without coordinates: values\n",
       "Data variables:\n",
       "    t2m         (values) float32 249.3 249.3 249.2 249.3 ... 226.7 226.9 227.0\n",
       "Attributes:\n",
       "    GRIB_edition:            1\n",
       "    GRIB_centre:             ecmf\n",
       "    GRIB_centreDescription:  European Centre for Medium-Range Weather Forecasts\n",
       "    GRIB_subCentre:          0\n",
       "    Conventions:             CF-1.7\n",
       "    institution:             European Centre for Medium-Range Weather Forecasts\n",
       "    history:                 2023-04-06T21:24 GRIB to CDM+CF via cfgrib-0.9.1...</pre><div class='xr-wrap' style='display:none'><div class='xr-header'><div class='xr-obj-type'>xarray.Dataset</div></div><ul class='xr-sections'><li class='xr-section-item'><input id='section-dfe34559-c903-4c56-8516-cf1169583859' class='xr-section-summary-in' type='checkbox' disabled ><label for='section-dfe34559-c903-4c56-8516-cf1169583859' class='xr-section-summary'  title='Expand/collapse section'>Dimensions:</label><div class='xr-section-inline-details'><ul class='xr-dim-list'><li><span>values</span>: 108160</li></ul></div><div class='xr-section-details'></div></li><li class='xr-section-item'><input id='section-b0242e4b-1cbc-44e4-ba80-4a7a6506322f' class='xr-section-summary-in' type='checkbox'  checked><label for='section-b0242e4b-1cbc-44e4-ba80-4a7a6506322f' class='xr-section-summary' >Coordinates: <span>(7)</span></label><div class='xr-section-inline-details'></div><div class='xr-section-details'><ul class='xr-var-list'><li class='xr-var-item'><div class='xr-var-name'><span>number</span></div><div class='xr-var-dims'>()</div><div class='xr-var-dtype'>int64</div><div class='xr-var-preview xr-preview'>0</div><input id='attrs-e3fbf5c1-b21d-4554-b96a-6f66efc6b104' class='xr-var-attrs-in' type='checkbox' ><label for='attrs-e3fbf5c1-b21d-4554-b96a-6f66efc6b104' title='Show/Hide attributes'><svg class='icon xr-icon-file-text2'><use xlink:href='#icon-file-text2'></use></svg></label><input id='data-59def1fe-e7ce-4125-b4cd-85c3367d9493' class='xr-var-data-in' type='checkbox'><label for='data-59def1fe-e7ce-4125-b4cd-85c3367d9493' title='Show/Hide data repr'><svg class='icon xr-icon-database'><use xlink:href='#icon-database'></use></svg></label><div class='xr-var-attrs'><dl class='xr-attrs'><dt><span>long_name :</span></dt><dd>ensemble member numerical id</dd><dt><span>units :</span></dt><dd>1</dd><dt><span>standard_name :</span></dt><dd>realization</dd></dl></div><div class='xr-var-data'><pre>array(0)</pre></div></li><li class='xr-var-item'><div class='xr-var-name'><span>time</span></div><div class='xr-var-dims'>()</div><div class='xr-var-dtype'>datetime64[ns]</div><div class='xr-var-preview xr-preview'>2021-03-01</div><input id='attrs-a5e9fcd5-8d7d-4299-95bf-f947a417e07b' class='xr-var-attrs-in' type='checkbox' ><label for='attrs-a5e9fcd5-8d7d-4299-95bf-f947a417e07b' title='Show/Hide attributes'><svg class='icon xr-icon-file-text2'><use xlink:href='#icon-file-text2'></use></svg></label><input id='data-d2b647ee-4d2b-4d69-a796-a420dfd3e88d' class='xr-var-data-in' type='checkbox'><label for='data-d2b647ee-4d2b-4d69-a796-a420dfd3e88d' title='Show/Hide data repr'><svg class='icon xr-icon-database'><use xlink:href='#icon-database'></use></svg></label><div class='xr-var-attrs'><dl class='xr-attrs'><dt><span>long_name :</span></dt><dd>initial time of forecast</dd><dt><span>standard_name :</span></dt><dd>forecast_reference_time</dd></dl></div><div class='xr-var-data'><pre>array(&#x27;2021-03-01T00:00:00.000000000&#x27;, dtype=&#x27;datetime64[ns]&#x27;)</pre></div></li><li class='xr-var-item'><div class='xr-var-name'><span>step</span></div><div class='xr-var-dims'>()</div><div class='xr-var-dtype'>timedelta64[ns]</div><div class='xr-var-preview xr-preview'>00:00:00</div><input id='attrs-4635d2e7-6d93-42cf-bd8d-0432253db000' class='xr-var-attrs-in' type='checkbox' ><label for='attrs-4635d2e7-6d93-42cf-bd8d-0432253db000' title='Show/Hide attributes'><svg class='icon xr-icon-file-text2'><use xlink:href='#icon-file-text2'></use></svg></label><input id='data-876c9a0a-6a0b-42d6-a63e-3b14ccf15f52' class='xr-var-data-in' type='checkbox'><label for='data-876c9a0a-6a0b-42d6-a63e-3b14ccf15f52' title='Show/Hide data repr'><svg class='icon xr-icon-database'><use xlink:href='#icon-database'></use></svg></label><div class='xr-var-attrs'><dl class='xr-attrs'><dt><span>long_name :</span></dt><dd>time since forecast_reference_time</dd><dt><span>standard_name :</span></dt><dd>forecast_period</dd></dl></div><div class='xr-var-data'><pre>array(0, dtype=&#x27;timedelta64[ns]&#x27;)</pre></div></li><li class='xr-var-item'><div class='xr-var-name'><span>surface</span></div><div class='xr-var-dims'>()</div><div class='xr-var-dtype'>float64</div><div class='xr-var-preview xr-preview'>0.0</div><input id='attrs-e7efe1a8-a21c-419d-b6ce-37b1d485ee03' class='xr-var-attrs-in' type='checkbox' ><label for='attrs-e7efe1a8-a21c-419d-b6ce-37b1d485ee03' title='Show/Hide attributes'><svg class='icon xr-icon-file-text2'><use xlink:href='#icon-file-text2'></use></svg></label><input id='data-5856f28d-2d48-4989-8b9c-186795678920' class='xr-var-data-in' type='checkbox'><label for='data-5856f28d-2d48-4989-8b9c-186795678920' title='Show/Hide data repr'><svg class='icon xr-icon-database'><use xlink:href='#icon-database'></use></svg></label><div class='xr-var-attrs'><dl class='xr-attrs'><dt><span>long_name :</span></dt><dd>original GRIB coordinate for key: level(surface)</dd><dt><span>units :</span></dt><dd>1</dd></dl></div><div class='xr-var-data'><pre>array(0.)</pre></div></li><li class='xr-var-item'><div class='xr-var-name'><span>latitude</span></div><div class='xr-var-dims'>(values)</div><div class='xr-var-dtype'>float64</div><div class='xr-var-preview xr-preview'>89.57 89.57 89.57 ... -89.57 -89.57</div><input id='attrs-811017bf-7a8b-46ce-8b21-14e7aaf9c156' class='xr-var-attrs-in' type='checkbox' ><label for='attrs-811017bf-7a8b-46ce-8b21-14e7aaf9c156' title='Show/Hide attributes'><svg class='icon xr-icon-file-text2'><use xlink:href='#icon-file-text2'></use></svg></label><input id='data-c40de01d-1fc4-449c-bdf7-98a5e59754a1' class='xr-var-data-in' type='checkbox'><label for='data-c40de01d-1fc4-449c-bdf7-98a5e59754a1' title='Show/Hide data repr'><svg class='icon xr-icon-database'><use xlink:href='#icon-database'></use></svg></label><div class='xr-var-attrs'><dl class='xr-attrs'><dt><span>units :</span></dt><dd>degrees_north</dd><dt><span>standard_name :</span></dt><dd>latitude</dd><dt><span>long_name :</span></dt><dd>latitude</dd></dl></div><div class='xr-var-data'><pre>array([ 89.57008955,  89.57008955,  89.57008955, ..., -89.57008955,\n",
       "       -89.57008955, -89.57008955])</pre></div></li><li class='xr-var-item'><div class='xr-var-name'><span>longitude</span></div><div class='xr-var-dims'>(values)</div><div class='xr-var-dtype'>float64</div><div class='xr-var-preview xr-preview'>0.0 18.0 36.0 ... 306.0 324.0 342.0</div><input id='attrs-4e201152-a1da-43be-a3cb-20898cee6232' class='xr-var-attrs-in' type='checkbox' ><label for='attrs-4e201152-a1da-43be-a3cb-20898cee6232' title='Show/Hide attributes'><svg class='icon xr-icon-file-text2'><use xlink:href='#icon-file-text2'></use></svg></label><input id='data-8b7a7f3d-3dd9-43c2-9565-e51ebbaba483' class='xr-var-data-in' type='checkbox'><label for='data-8b7a7f3d-3dd9-43c2-9565-e51ebbaba483' title='Show/Hide data repr'><svg class='icon xr-icon-database'><use xlink:href='#icon-database'></use></svg></label><div class='xr-var-attrs'><dl class='xr-attrs'><dt><span>units :</span></dt><dd>degrees_east</dd><dt><span>standard_name :</span></dt><dd>longitude</dd><dt><span>long_name :</span></dt><dd>longitude</dd></dl></div><div class='xr-var-data'><pre>array([  0.,  18.,  36., ..., 306., 324., 342.])</pre></div></li><li class='xr-var-item'><div class='xr-var-name'><span>valid_time</span></div><div class='xr-var-dims'>()</div><div class='xr-var-dtype'>datetime64[ns]</div><div class='xr-var-preview xr-preview'>2021-03-01</div><input id='attrs-aa3c14a6-ef2e-4de2-8ff2-4d001168a192' class='xr-var-attrs-in' type='checkbox' ><label for='attrs-aa3c14a6-ef2e-4de2-8ff2-4d001168a192' title='Show/Hide attributes'><svg class='icon xr-icon-file-text2'><use xlink:href='#icon-file-text2'></use></svg></label><input id='data-68884a9e-7484-4d38-9817-1355e7b52be1' class='xr-var-data-in' type='checkbox'><label for='data-68884a9e-7484-4d38-9817-1355e7b52be1' title='Show/Hide data repr'><svg class='icon xr-icon-database'><use xlink:href='#icon-database'></use></svg></label><div class='xr-var-attrs'><dl class='xr-attrs'><dt><span>standard_name :</span></dt><dd>time</dd><dt><span>long_name :</span></dt><dd>time</dd></dl></div><div class='xr-var-data'><pre>array(&#x27;2021-03-01T00:00:00.000000000&#x27;, dtype=&#x27;datetime64[ns]&#x27;)</pre></div></li></ul></div></li><li class='xr-section-item'><input id='section-6e968664-e22f-43c5-8a33-2bdd258007cd' class='xr-section-summary-in' type='checkbox'  checked><label for='section-6e968664-e22f-43c5-8a33-2bdd258007cd' class='xr-section-summary' >Data variables: <span>(1)</span></label><div class='xr-section-inline-details'></div><div class='xr-section-details'><ul class='xr-var-list'><li class='xr-var-item'><div class='xr-var-name'><span>t2m</span></div><div class='xr-var-dims'>(values)</div><div class='xr-var-dtype'>float32</div><div class='xr-var-preview xr-preview'>249.3 249.3 249.2 ... 226.9 227.0</div><input id='attrs-3aeea582-409f-4fa1-b053-21a808c8adf6' class='xr-var-attrs-in' type='checkbox' ><label for='attrs-3aeea582-409f-4fa1-b053-21a808c8adf6' title='Show/Hide attributes'><svg class='icon xr-icon-file-text2'><use xlink:href='#icon-file-text2'></use></svg></label><input id='data-3aaa18cf-b9ea-4cce-bae3-cd6613554054' class='xr-var-data-in' type='checkbox'><label for='data-3aaa18cf-b9ea-4cce-bae3-cd6613554054' title='Show/Hide data repr'><svg class='icon xr-icon-database'><use xlink:href='#icon-database'></use></svg></label><div class='xr-var-attrs'><dl class='xr-attrs'><dt><span>GRIB_paramId :</span></dt><dd>167</dd><dt><span>GRIB_dataType :</span></dt><dd>fc</dd><dt><span>GRIB_numberOfPoints :</span></dt><dd>108160</dd><dt><span>GRIB_typeOfLevel :</span></dt><dd>surface</dd><dt><span>GRIB_stepUnits :</span></dt><dd>1</dd><dt><span>GRIB_stepType :</span></dt><dd>instant</dd><dt><span>GRIB_gridType :</span></dt><dd>reduced_gg</dd><dt><span>GRIB_N :</span></dt><dd>160</dd><dt><span>GRIB_NV :</span></dt><dd>0</dd><dt><span>GRIB_cfName :</span></dt><dd>unknown</dd><dt><span>GRIB_cfVarName :</span></dt><dd>t2m</dd><dt><span>GRIB_gridDefinitionDescription :</span></dt><dd>Gaussian Latitude/Longitude Grid</dd><dt><span>GRIB_missingValue :</span></dt><dd>3.4028234663852886e+38</dd><dt><span>GRIB_name :</span></dt><dd>2 metre temperature</dd><dt><span>GRIB_pl :</span></dt><dd>[ 20  24  28  32  36  40  44  48  52  56  60  64  68  72  76  80  84  88\n",
       "  92  96 100 104 108 112 116 120 124 128 132 136 140 144 148 152 156 160\n",
       " 164 168 172 176 180 184 188 192 196 200 204 208 212 216 220 224 228 232\n",
       " 236 240 244 248 252 256 260 264 268 272 276 280 284 288 292 296 300 304\n",
       " 308 312 316 320 324 328 332 336 340 344 348 352 356 360 364 368 372 376\n",
       " 380 384 388 392 396 400 404 408 412 416 420 424 428 432 436 440 444 448\n",
       " 452 456 460 464 468 472 476 480 484 488 492 496 500 504 508 512 516 520\n",
       " 524 528 532 536 540 544 548 552 556 560 564 568 572 576 580 584 588 592\n",
       " 596 600 604 608 612 616 620 624 628 632 636 640 644 648 652 656 656 652\n",
       " 648 644 640 636 632 628 624 620 616 612 608 604 600 596 592 588 584 580\n",
       " 576 572 568 564 560 556 552 548 544 540 536 532 528 524 520 516 512 508\n",
       " 504 500 496 492 488 484 480 476 472 468 464 460 456 452 448 444 440 436\n",
       " 432 428 424 420 416 412 408 404 400 396 392 388 384 380 376 372 368 364\n",
       " 360 356 352 348 344 340 336 332 328 324 320 316 312 308 304 300 296 292\n",
       " 288 284 280 276 272 268 264 260 256 252 248 244 240 236 232 228 224 220\n",
       " 216 212 208 204 200 196 192 188 184 180 176 172 168 164 160 156 152 148\n",
       " 144 140 136 132 128 124 120 116 112 108 104 100  96  92  88  84  80  76\n",
       "  72  68  64  60  56  52  48  44  40  36  32  28  24  20]</dd><dt><span>GRIB_shortName :</span></dt><dd>2t</dd><dt><span>GRIB_totalNumber :</span></dt><dd>0</dd><dt><span>GRIB_units :</span></dt><dd>K</dd><dt><span>long_name :</span></dt><dd>2 metre temperature</dd><dt><span>units :</span></dt><dd>K</dd><dt><span>standard_name :</span></dt><dd>unknown</dd></dl></div><div class='xr-var-data'><pre>array([249.29166, 249.2565 , 249.21939, ..., 226.6608 , 226.8522 ,\n",
       "       227.02994], dtype=float32)</pre></div></li></ul></div></li><li class='xr-section-item'><input id='section-404736a5-1b8d-4bf0-8e1d-2c998a1ae2e4' class='xr-section-summary-in' type='checkbox'  checked><label for='section-404736a5-1b8d-4bf0-8e1d-2c998a1ae2e4' class='xr-section-summary' >Attributes: <span>(7)</span></label><div class='xr-section-inline-details'></div><div class='xr-section-details'><dl class='xr-attrs'><dt><span>GRIB_edition :</span></dt><dd>1</dd><dt><span>GRIB_centre :</span></dt><dd>ecmf</dd><dt><span>GRIB_centreDescription :</span></dt><dd>European Centre for Medium-Range Weather Forecasts</dd><dt><span>GRIB_subCentre :</span></dt><dd>0</dd><dt><span>Conventions :</span></dt><dd>CF-1.7</dd><dt><span>institution :</span></dt><dd>European Centre for Medium-Range Weather Forecasts</dd><dt><span>history :</span></dt><dd>2023-04-06T21:24 GRIB to CDM+CF via cfgrib-0.9.10.2/ecCodes-2.27.0 with {&quot;source&quot;: &quot;../../../../../ec/res4/scratch/pamc/WeatherBench/o160_t2m.grib&quot;, &quot;filter_by_keys&quot;: {}, &quot;encode_cf&quot;: [&quot;parameter&quot;, &quot;time&quot;, &quot;geography&quot;, &quot;vertical&quot;]}</dd></dl></div></li></ul></div></div>"
      ],
      "text/plain": [
       "<xarray.Dataset>\n",
       "Dimensions:     (values: 108160)\n",
       "Coordinates:\n",
       "    number      int64 0\n",
       "    time        datetime64[ns] 2021-03-01\n",
       "    step        timedelta64[ns] 00:00:00\n",
       "    surface     float64 0.0\n",
       "    latitude    (values) float64 89.57 89.57 89.57 ... -89.57 -89.57 -89.57\n",
       "    longitude   (values) float64 0.0 18.0 36.0 54.0 ... 288.0 306.0 324.0 342.0\n",
       "    valid_time  datetime64[ns] 2021-03-01\n",
       "Dimensions without coordinates: values\n",
       "Data variables:\n",
       "    t2m         (values) float32 249.3 249.3 249.2 249.3 ... 226.7 226.9 227.0\n",
       "Attributes:\n",
       "    GRIB_edition:            1\n",
       "    GRIB_centre:             ecmf\n",
       "    GRIB_centreDescription:  European Centre for Medium-Range Weather Forecasts\n",
       "    GRIB_subCentre:          0\n",
       "    Conventions:             CF-1.7\n",
       "    institution:             European Centre for Medium-Range Weather Forecasts\n",
       "    history:                 2023-04-06T21:24 GRIB to CDM+CF via cfgrib-0.9.1..."
      ]
     },
     "execution_count": 7,
     "metadata": {},
     "output_type": "execute_result"
    }
   ],
   "source": [
    "era = xr.load_dataset(\"/ec/res4/scratch/pamc/WeatherBench/o160_t2m.grib\", engine=\"cfgrib\")\n",
    "era"
   ]
  },
  {
   "cell_type": "code",
   "execution_count": 8,
   "id": "recognized-fleece",
   "metadata": {},
   "outputs": [
    {
     "name": "stdout",
     "output_type": "stream",
     "text": [
      "108160 108160\n"
     ]
    }
   ],
   "source": [
    "area_weights = []\n",
    "nind = 0\n",
    "nlon = 20\n",
    "tlat = 160\n",
    "mlon = 4*tlat+16\n",
    "for i in range(tlat):\n",
    "    area = np.cos(np.deg2rad(era.latitude[nind].data))*mlon/nlon\n",
    "    area_weights.extend([area]*nlon)\n",
    "    #print(era.latitude[nind].data,era.longitude[nind].data,area)\n",
    "    nind+=nlon\n",
    "    nlon+=4\n",
    "area_weights.extend(area_weights[::-1])\n",
    "print(len(area_weights),era.latitude.size)\n",
    "\n",
    "assert(len(area_weights)==era.latitude.size)"
   ]
  },
  {
   "cell_type": "code",
   "execution_count": 9,
   "id": "devoted-remedy",
   "metadata": {},
   "outputs": [
    {
     "data": {
      "text/plain": [
       "108160"
      ]
     },
     "execution_count": 9,
     "metadata": {},
     "output_type": "execute_result"
    }
   ],
   "source": [
    "len(area_weights)"
   ]
  },
  {
   "cell_type": "code",
   "execution_count": null,
   "id": "illegal-visibility",
   "metadata": {},
   "outputs": [],
   "source": []
  },
  {
   "cell_type": "code",
   "execution_count": 10,
   "id": "amateur-upgrade",
   "metadata": {},
   "outputs": [
    {
     "data": {
      "text/plain": [
       "(<xarray.DataArray 'longitude' ()>\n",
       " array(0.)\n",
       " Coordinates:\n",
       "     number      int64 0\n",
       "     time        datetime64[ns] 2021-03-01\n",
       "     step        timedelta64[ns] 00:00:00\n",
       "     surface     float64 0.0\n",
       "     valid_time  datetime64[ns] 2021-03-01,\n",
       " <xarray.DataArray 'longitude' ()>\n",
       " array(359.45121951)\n",
       " Coordinates:\n",
       "     number      int64 0\n",
       "     time        datetime64[ns] 2021-03-01\n",
       "     step        timedelta64[ns] 00:00:00\n",
       "     surface     float64 0.0\n",
       "     valid_time  datetime64[ns] 2021-03-01)"
      ]
     },
     "execution_count": 10,
     "metadata": {},
     "output_type": "execute_result"
    }
   ],
   "source": [
    "era.longitude.min(), era.longitude.max()"
   ]
  },
  {
   "cell_type": "code",
   "execution_count": 11,
   "id": "connected-republic",
   "metadata": {},
   "outputs": [
    {
     "data": {
      "text/plain": [
       "(<xarray.DataArray 'latitude' ()>\n",
       " array(-89.57008955)\n",
       " Coordinates:\n",
       "     number      int64 0\n",
       "     time        datetime64[ns] 2021-03-01\n",
       "     step        timedelta64[ns] 00:00:00\n",
       "     surface     float64 0.0\n",
       "     valid_time  datetime64[ns] 2021-03-01,\n",
       " <xarray.DataArray 'latitude' ()>\n",
       " array(89.57008955)\n",
       " Coordinates:\n",
       "     number      int64 0\n",
       "     time        datetime64[ns] 2021-03-01\n",
       "     step        timedelta64[ns] 00:00:00\n",
       "     surface     float64 0.0\n",
       "     valid_time  datetime64[ns] 2021-03-01)"
      ]
     },
     "execution_count": 11,
     "metadata": {},
     "output_type": "execute_result"
    }
   ],
   "source": [
    "era.latitude.min(), era.latitude.max()"
   ]
  },
  {
   "cell_type": "code",
   "execution_count": 12,
   "id": "enhanced-division",
   "metadata": {},
   "outputs": [
    {
     "name": "stdout",
     "output_type": "stream",
     "text": [
      "dcoords_sp.shape = (108160, 2)\n"
     ]
    }
   ],
   "source": [
    "elat = np.array(era[\"latitude\"])\n",
    "elon = np.array(era[\"longitude\"])\n",
    "ecoords = np.stack([elat, elon], axis=-1).reshape((-1, 2))\n",
    "ecoords_sp = np.deg2rad(ecoords)\n",
    "print(f\"dcoords_sp.shape = {ecoords_sp.shape}\")"
   ]
  },
  {
   "cell_type": "code",
   "execution_count": 13,
   "id": "turned-directory",
   "metadata": {},
   "outputs": [
    {
     "name": "stdout",
     "output_type": "stream",
     "text": [
      "eadjmat.shape = (108160, 108160)\n"
     ]
    }
   ],
   "source": [
    "eneigh = NearestNeighbors(n_neighbors=NUM_ERA_NEIGHBORS, metric=\"haversine\", n_jobs=4)\n",
    "eneigh.fit(ecoords_sp)\n",
    "\n",
    "eadjmat = eneigh.kneighbors_graph(ecoords_sp, NUM_ERA_NEIGHBORS, mode=\"distance\").tocoo()\n",
    "print(f\"eadjmat.shape = {eadjmat.shape}\")"
   ]
  },
  {
   "cell_type": "code",
   "execution_count": 14,
   "id": "sought-cache",
   "metadata": {},
   "outputs": [
    {
     "data": {
      "text/plain": [
       "<108160x108160 sparse matrix of type '<class 'numpy.float64'>'\n",
       "\twith 973440 stored elements in COOrdinate format>"
      ]
     },
     "execution_count": 14,
     "metadata": {},
     "output_type": "execute_result"
    }
   ],
   "source": [
    "eadjmat"
   ]
  },
  {
   "cell_type": "code",
   "execution_count": 15,
   "id": "portable-motorcycle",
   "metadata": {},
   "outputs": [],
   "source": [
    "from sklearn.preprocessing import normalize\n",
    "eadjmat_norm = normalize(eadjmat, norm=\"l1\", axis=1)\n",
    "eadjmat_norm.data = 1.0 - eadjmat_norm.data"
   ]
  },
  {
   "cell_type": "code",
   "execution_count": 127,
   "id": "baking-architecture",
   "metadata": {},
   "outputs": [],
   "source": [
    "era2era_key = (\"era\", \"to\", \"era\")\n",
    "\n",
    "era2era_gdata = {\n",
    "    # we should swap rows and cols here. It does not matter too much since the\n",
    "    # adjacency matrix is symmetric but better be consistent\n",
    "    \"edge_index\": torch.from_numpy(np.stack([eadjmat.col, eadjmat.row], axis=0).astype(np.int64)),\n",
    "    \"edge_attr\": torch.from_numpy(np.expand_dims(eadjmat_norm.data, axis=-1).astype(np.float32)),\n",
    "    \"ecoords_rad\": torch.from_numpy(ecoords_sp.astype(np.float32)),\n",
    "    \"info\": \"o160_to_o160 graph\",\n",
    "    'area_weights':torch.from_numpy(np.array(area_weights)),\n",
    "}"
   ]
  },
  {
   "cell_type": "code",
   "execution_count": 151,
   "id": "nuclear-width",
   "metadata": {},
   "outputs": [
    {
     "data": {
      "text/plain": [
       "(5882, 2)"
      ]
     },
     "execution_count": 151,
     "metadata": {},
     "output_type": "execute_result"
    }
   ],
   "source": [
    "resolution = 2\n",
    "h3_grid = [h3.geo_to_h3(lat, lon, resolution) for lat, lon in ecoords]\n",
    "h3_grid = sorted(set(h3_grid))\n",
    "hcoords = np.array([h3.h3_to_geo(val) for val in h3_grid])\n",
    "hcoords_sp = np.deg2rad(hcoords)\n",
    "hcoords.shape"
   ]
  },
  {
   "cell_type": "code",
   "execution_count": 152,
   "id": "genuine-consumption",
   "metadata": {},
   "outputs": [
    {
     "data": {
      "text/plain": [
       "<5882x5882 sparse matrix of type '<class 'numpy.float64'>'\n",
       "\twith 41174 stored elements in COOrdinate format>"
      ]
     },
     "execution_count": 152,
     "metadata": {},
     "output_type": "execute_result"
    }
   ],
   "source": [
    "hneigh = NearestNeighbors(\n",
    "    n_neighbors=NUM_H3_NEIGHBORS,\n",
    "    metric=\"haversine\",\n",
    "    n_jobs=4\n",
    ")\n",
    "hneigh.fit(hcoords_sp)\n",
    "\n",
    "hadjmat = hneigh.kneighbors_graph(hcoords_sp, NUM_H3_NEIGHBORS, mode=\"distance\").tocoo()\n",
    "hadjmat"
   ]
  },
  {
   "cell_type": "code",
   "execution_count": 153,
   "id": "substantial-richardson",
   "metadata": {},
   "outputs": [
    {
     "data": {
      "text/plain": [
       "<5882x5882 sparse matrix of type '<class 'numpy.float64'>'\n",
       "\twith 41174 stored elements in Compressed Sparse Row format>"
      ]
     },
     "execution_count": 153,
     "metadata": {},
     "output_type": "execute_result"
    }
   ],
   "source": [
    "hadjmat_norm = normalize(hadjmat, norm=\"l1\", axis=1)\n",
    "hadjmat_norm.data = 1.0 - hadjmat_norm.data\n",
    "hadjmat_norm"
   ]
  },
  {
   "cell_type": "code",
   "execution_count": 154,
   "id": "choice-dressing",
   "metadata": {},
   "outputs": [],
   "source": [
    "h2h_key = (\"h\", \"to\", \"h\")\n",
    "\n",
    "h2h_gdata = {\n",
    "    # we should swap rows and cols here. It does not matter too much since the\n",
    "    # adjacency matrix is symmetric but better be consistent\n",
    "    \"edge_index\": torch.from_numpy(np.stack([hadjmat.col, hadjmat.row], axis=0).astype(np.int64)),\n",
    "    \"edge_attr\": torch.from_numpy(np.expand_dims(hadjmat_norm.data, axis=-1).astype(np.float32)),\n",
    "    \"hcoords_rad\": torch.from_numpy(hcoords_sp.astype(np.float32)),\n",
    "    \"info\": \"h3_to_h3 graph\",\n",
    "}"
   ]
  },
  {
   "cell_type": "code",
   "execution_count": 155,
   "id": "dominant-nitrogen",
   "metadata": {},
   "outputs": [],
   "source": [
    "# includes \"self\"\n",
    "NUM_H3_TO_ERA_NEIGHBORS = 3\n",
    "NUM_ERA_TO_H3_NEIGHBORS = 12"
   ]
  },
  {
   "cell_type": "code",
   "execution_count": 156,
   "id": "unlikely-money",
   "metadata": {},
   "outputs": [],
   "source": [
    "# compute mappings\n",
    "# H3 -> ERA aka the \"decoder\"\n",
    "h3_to_era_adjmat = hneigh.kneighbors_graph(\n",
    "    ecoords_sp,\n",
    "    n_neighbors=NUM_H3_TO_ERA_NEIGHBORS,\n",
    "    mode=\"distance\",\n",
    ").tocoo()\n",
    "\n",
    "# ERA -> H3 aka the \"encoder\"\n",
    "era_to_h3_adjmat = eneigh.kneighbors_graph(\n",
    "    hcoords_sp,\n",
    "    n_neighbors=NUM_ERA_TO_H3_NEIGHBORS,\n",
    "    mode=\"distance\",\n",
    ").tocoo()"
   ]
  },
  {
   "cell_type": "code",
   "execution_count": 157,
   "id": "wireless-island",
   "metadata": {},
   "outputs": [
    {
     "data": {
      "text/plain": [
       "(<108160x5882 sparse matrix of type '<class 'numpy.float64'>'\n",
       " \twith 324480 stored elements in COOrdinate format>,\n",
       " <5882x108160 sparse matrix of type '<class 'numpy.float64'>'\n",
       " \twith 70584 stored elements in COOrdinate format>)"
      ]
     },
     "execution_count": 157,
     "metadata": {},
     "output_type": "execute_result"
    }
   ],
   "source": [
    "h3_to_era_adjmat, era_to_h3_adjmat"
   ]
  },
  {
   "cell_type": "code",
   "execution_count": 158,
   "id": "confirmed-reviewer",
   "metadata": {},
   "outputs": [],
   "source": [
    "h3_to_era_adjmat_norm = normalize(h3_to_era_adjmat, norm=\"l1\", axis=1)\n",
    "h3_to_era_adjmat_norm.data = 1.0 - h3_to_era_adjmat_norm.data\n",
    "\n",
    "era_to_h3_adjmat_norm = normalize(era_to_h3_adjmat, norm=\"l1\", axis=1)\n",
    "era_to_h3_adjmat_norm.data = 1.0 - era_to_h3_adjmat_norm.data"
   ]
  },
  {
   "cell_type": "code",
   "execution_count": 159,
   "id": "loose-subject",
   "metadata": {},
   "outputs": [
    {
     "data": {
      "text/plain": [
       "(<108160x5882 sparse matrix of type '<class 'numpy.float64'>'\n",
       " \twith 324480 stored elements in Compressed Sparse Row format>,\n",
       " <5882x108160 sparse matrix of type '<class 'numpy.float64'>'\n",
       " \twith 70584 stored elements in Compressed Sparse Row format>)"
      ]
     },
     "execution_count": 159,
     "metadata": {},
     "output_type": "execute_result"
    }
   ],
   "source": [
    "h3_to_era_adjmat_norm, era_to_h3_adjmat_norm"
   ]
  },
  {
   "cell_type": "code",
   "execution_count": 160,
   "id": "scientific-credits",
   "metadata": {},
   "outputs": [],
   "source": [
    "h2e_key = (\"h\", \"to\", \"era\")\n",
    "\n",
    "h2e_gdata = {\n",
    "    # we should swap rows and cols here. It does not matter too much since the\n",
    "    # adjacency matrix is symmetric but better be consistent\n",
    "    \"edge_index\": torch.from_numpy(np.stack([h3_to_era_adjmat.col, h3_to_era_adjmat.row], axis=0).astype(np.int64)),\n",
    "    \"edge_attr\": torch.from_numpy(np.expand_dims(h3_to_era_adjmat_norm.data, axis=-1).astype(np.float32)),\n",
    "    \"hcoords_rad\": torch.from_numpy(hcoords_sp.astype(np.float32)),\n",
    "    \"ecoords_rad\": torch.from_numpy(ecoords_sp.astype(np.float32)),\n",
    "    \"info\": \"h3_to_era graph\",\n",
    "}"
   ]
  },
  {
   "cell_type": "code",
   "execution_count": 161,
   "id": "czech-dominant",
   "metadata": {},
   "outputs": [],
   "source": [
    "e2h_key = (\"era\", \"to\", \"h\")\n",
    "\n",
    "e2h_gdata = {\n",
    "    # we should swap rows and cols here. It does not matter too much since the\n",
    "    # adjacency matrix is symmetric but better be consistent\n",
    "    \"edge_index\": torch.from_numpy(np.stack([era_to_h3_adjmat.col, era_to_h3_adjmat.row], axis=0).astype(np.int64)),\n",
    "    \"edge_attr\": torch.from_numpy(np.expand_dims(era_to_h3_adjmat_norm.data, axis=-1).astype(np.float32)),\n",
    "    \"hcoords_rad\": torch.from_numpy(hcoords_sp.astype(np.float32)),\n",
    "    \"ecoords_rad\": torch.from_numpy(ecoords_sp.astype(np.float32)),\n",
    "    \"info\": \"era_to_h3 graph\",\n",
    "}"
   ]
  },
  {
   "cell_type": "code",
   "execution_count": 162,
   "id": "spectacular-lover",
   "metadata": {},
   "outputs": [],
   "source": [
    "graphs_normed = HeteroData(\n",
    "    {\n",
    "       era2era_key : era2era_gdata,\n",
    "       h2h_key: h2h_gdata,\n",
    "       e2h_key : e2h_gdata,\n",
    "       h2e_key : h2e_gdata,\n",
    "    }\n",
    ")"
   ]
  },
  {
   "cell_type": "markdown",
   "id": "bound-water",
   "metadata": {},
   "source": [
    "# Add directionality attribute"
   ]
  },
  {
   "cell_type": "code",
   "execution_count": 163,
   "id": "female-mainstream",
   "metadata": {},
   "outputs": [],
   "source": [
    "hhedge_dirs = []\n",
    "for n in range(graphs_normed[(\"h\", \"to\", \"h\")]['edge_index'].shape[1]):\n",
    "    i,j = graphs_normed[(\"h\", \"to\", \"h\")]['edge_index'][:,n]\n",
    "    ic = graphs_normed[(\"h\", \"to\", \"h\")]['hcoords_rad'][i,:]\n",
    "    jc = graphs_normed[(\"h\", \"to\", \"h\")]['hcoords_rad'][j,:]\n",
    "    hhedge_dirs.append(jc - ic)\n",
    "hhedge_dirs = torch.from_numpy(np.stack(hhedge_dirs).astype(np.float32))\n",
    "hhedge_attr = torch.concat([graphs_normed[(\"h\", \"to\", \"h\")]['edge_attr'],hhedge_dirs],axis=-1)"
   ]
  },
  {
   "cell_type": "code",
   "execution_count": 164,
   "id": "hungry-terrain",
   "metadata": {},
   "outputs": [],
   "source": [
    "ehedge_dirs = []\n",
    "for n in range(graphs_normed[(\"era\", \"to\", \"h\")]['edge_index'].shape[1]):\n",
    "    i,j = graphs_normed[(\"era\", \"to\", \"h\")]['edge_index'][:,n]\n",
    "    ic = graphs_normed[(\"era\", \"to\", \"h\")]['ecoords_rad'][i,:]\n",
    "    jc = graphs_normed[(\"era\", \"to\", \"h\")]['hcoords_rad'][j,:]\n",
    "    ehedge_dirs.append(jc - ic)\n",
    "ehedge_dirs = torch.from_numpy(np.stack(ehedge_dirs).astype(np.float32))\n",
    "ehedge_attr = torch.concat([graphs_normed[(\"era\", \"to\", \"h\")]['edge_attr'],ehedge_dirs],axis=-1)"
   ]
  },
  {
   "cell_type": "code",
   "execution_count": 165,
   "id": "complex-aurora",
   "metadata": {},
   "outputs": [],
   "source": [
    "heedge_dirs = []\n",
    "for n in range(graphs_normed[(\"h\", \"to\", \"era\")]['edge_index'].shape[1]):\n",
    "    i,j = graphs_normed[(\"h\", \"to\", \"era\")]['edge_index'][:,n]\n",
    "    ic = graphs_normed[(\"h\", \"to\", \"era\")]['hcoords_rad'][i,:]\n",
    "    jc = graphs_normed[(\"h\", \"to\", \"era\")]['ecoords_rad'][j,:]\n",
    "    heedge_dirs.append(jc - ic)\n",
    "heedge_dirs = torch.from_numpy(np.stack(heedge_dirs).astype(np.float32))\n",
    "heedge_attr = torch.concat([graphs_normed[(\"h\", \"to\", \"era\")]['edge_attr'],heedge_dirs],axis=-1)"
   ]
  },
  {
   "cell_type": "code",
   "execution_count": 166,
   "id": "efficient-scenario",
   "metadata": {},
   "outputs": [],
   "source": [
    "eeedge_dirs = []\n",
    "for n in range(graphs_normed[(\"era\", \"to\", \"era\")]['edge_index'].shape[1]):\n",
    "    i,j = graphs_normed[(\"era\", \"to\", \"era\")]['edge_index'][:,n]\n",
    "    ic = graphs_normed[(\"era\", \"to\", \"era\")]['ecoords_rad'][i,:]\n",
    "    jc = graphs_normed[(\"era\", \"to\", \"era\")]['ecoords_rad'][j,:]\n",
    "    eeedge_dirs.append(jc - ic)\n",
    "eeedge_dirs = torch.from_numpy(np.stack(eeedge_dirs).astype(np.float32))\n",
    "eeedge_attr = torch.concat([graphs_normed[(\"era\", \"to\", \"era\")]['edge_attr'],eeedge_dirs],axis=-1)"
   ]
  },
  {
   "cell_type": "code",
   "execution_count": 167,
   "id": "hollow-kansas",
   "metadata": {},
   "outputs": [],
   "source": [
    "graphs_normed[(\"h\", \"to\", \"era\")]['edge_attr'] = heedge_attr\n",
    "graphs_normed[(\"h\", \"to\", \"h\")]['edge_attr'] = hhedge_attr\n",
    "graphs_normed[(\"era\", \"to\", \"h\")]['edge_attr'] = ehedge_attr\n",
    "graphs_normed[(\"era\", \"to\", \"era\")]['edge_attr'] = eeedge_attr"
   ]
  },
  {
   "cell_type": "code",
   "execution_count": 168,
   "id": "entitled-eleven",
   "metadata": {},
   "outputs": [
    {
     "data": {
      "text/plain": [
       "torch.Size([70584, 3])"
      ]
     },
     "execution_count": 168,
     "metadata": {},
     "output_type": "execute_result"
    }
   ],
   "source": [
    "graphs_normed[(\"era\", \"to\", \"h\")]['edge_attr'].shape"
   ]
  },
  {
   "cell_type": "code",
   "execution_count": 169,
   "id": "insured-registrar",
   "metadata": {},
   "outputs": [],
   "source": [
    "output_dir = \"/ec/res4/hpcperm/pamc/gnn/\"\n",
    "torch.save(graphs_normed, os.path.join(output_dir, f\"graph_mappings_normed_edge_attrs_o160_h3_{resolution}.pt\"))"
   ]
  },
  {
   "cell_type": "code",
   "execution_count": 170,
   "id": "healthy-wildlife",
   "metadata": {},
   "outputs": [
    {
     "name": "stdout",
     "output_type": "stream",
     "text": [
      "total 509520\n",
      "-rw-r--r-- 1 pamc rd 43077880 Mar 26 10:10 graph_mappings_normed_edge_attrs_o160_h3_2.pt\n",
      "-rw-r--r-- 1 pamc rd 62693560 Mar 26 09:52 graph_mappings_normed_edge_attrs_o160_h3_3.pt\n",
      "-rw-r--r-- 1 pamc rd 34424635 Mar 24 22:35 graph_mappings_o160_h3_2_normed_edge_attrs.pt\n",
      "-rw-r--r-- 1 pamc rd 34424635 Mar 24 22:35 graph_mappings_o160_h3_2.pt\n",
      "-rw-r--r-- 1 pamc rd 54040379 Mar 24 22:26 graph_mappings_o160_h3_3_normed_edge_attrs.pt\n",
      "-rw-r--r-- 1 pamc rd 54040379 Mar 24 22:26 graph_mappings_o160_h3_3.pt\n",
      "-rw-r--r-- 1 pamc rd  6649659 Mar 20 21:08 graph_mappings_2d_3_usecutoff.pt\n",
      "-rw-r--r-- 1 pamc rd  6649659 Mar 20 21:08 graph_mappings_2d_normed_edge_attrs_3_usecutoff.pt\n",
      "-rw-r--r-- 1 pamc rd 37838843 Mar 16 11:22 graph_mappings_normed_edge_attrs_3_usecutoff.pt\n",
      "-rw-r--r-- 1 pamc rd 15975099 Mar 16 11:16 graph_mappings_2_usecutoff.pt\n",
      "-rw-r--r-- 1 pamc rd 15975099 Mar 16 11:16 graph_mappings_normed_edge_attrs_2_usecutoff.pt\n",
      "-rw-r--r-- 1 pamc rd 15975099 Mar 16 11:10 graph_mappings_normed_edge_attrs_multi_2_usecutoff.pt\n",
      "-rw-r--r-- 1 pamc rd 16174651 Mar 16 10:35 graph_mappings_normed_edge_attrs_multi_2_no_neigh_child.pt\n",
      "-rw-r--r-- 1 pamc rd 16174651 Mar 16 10:35 graph_mappings_multi_2_no_neigh_child.pt\n",
      "-rw-r--r-- 1 pamc rd 16009915 Mar 16 10:21 graph_mappings_multi_2_noslfl_no_neigh_child.pt\n",
      "-rw-r--r-- 1 pamc rd 16009915 Mar 16 10:21 graph_mappings_normed_edge_attrs_multi_2_noslfl_no_neigh_child.pt\n",
      "-rw-r--r-- 1 pamc rd 22040699 Feb 14 22:26 graph_mappings_normed_edge_attrs.pt\n",
      "-rw-r--r-- 1 pamc rd 22040699 Feb 14 22:26 graph_mappings.pt\n",
      "-rw-r--r-- 1 pamc rd 21688123 Feb 12 20:37 graph_mappings_normed_edge_attrs_o32.pt\n",
      "-rw-r--r-- 1 pamc rd 19326587 Feb 12 20:37 graph_mappings_o32.pt\n"
     ]
    }
   ],
   "source": [
    "!ls -lt $HPCPERM/gnn"
   ]
  },
  {
   "cell_type": "code",
   "execution_count": null,
   "id": "scenic-holiday",
   "metadata": {},
   "outputs": [],
   "source": []
  }
 ],
 "metadata": {
  "kernelspec": {
   "display_name": "gnn-pyg-2.1",
   "language": "python",
   "name": "gnn-pyg-2.1"
  },
  "language_info": {
   "codemirror_mode": {
    "name": "ipython",
    "version": 3
   },
   "file_extension": ".py",
   "mimetype": "text/x-python",
   "name": "python",
   "nbconvert_exporter": "python",
   "pygments_lexer": "ipython3",
   "version": "3.9.13"
  }
 },
 "nbformat": 4,
 "nbformat_minor": 5
}
