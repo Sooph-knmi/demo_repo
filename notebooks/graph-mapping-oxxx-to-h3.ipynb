{
 "cells": [
  {
   "attachments": {},
   "cell_type": "markdown",
   "id": "directed-success",
   "metadata": {},
   "source": [
    "# Graph mappings"
   ]
  },
  {
   "cell_type": "code",
   "execution_count": 53,
   "id": "built-judges",
   "metadata": {},
   "outputs": [],
   "source": [
    "import os\n",
    "\n",
    "import xarray as xr\n",
    "import numpy as np\n",
    "\n",
    "from sklearn.neighbors import NearestNeighbors\n",
    "\n",
    "import torch\n",
    "from torch_geometric.data import HeteroData\n",
    "import torch_geometric\n",
    "\n",
    "import h3\n"
   ]
  },
  {
   "cell_type": "code",
   "execution_count": 54,
   "id": "undefined-seminar",
   "metadata": {},
   "outputs": [],
   "source": [
    "import matplotlib.pyplot as plt\n",
    "\n",
    "%matplotlib inline\n",
    "%config InlineBackend.figure_format='retina'"
   ]
  },
  {
   "cell_type": "code",
   "execution_count": 55,
   "id": "backed-bishop",
   "metadata": {},
   "outputs": [],
   "source": [
    "era_res = 96\n",
    "grid_type = \"o\" # n or o"
   ]
  },
  {
   "attachments": {},
   "cell_type": "markdown",
   "id": "equipped-morris",
   "metadata": {},
   "source": [
    "## Data -> OXXX"
   ]
  },
  {
   "cell_type": "code",
   "execution_count": 56,
   "id": "general-closure",
   "metadata": {},
   "outputs": [],
   "source": [
    "# reference data retrieved via mars\n",
    "# retrieve,\n",
    "# class=ea,\n",
    "# date=2010-01-01,\n",
    "# expver=1,\n",
    "# levelist=1,\n",
    "# levtype=sfc,\n",
    "# grid=o96,\n",
    "# stream=oper,\n",
    "# time=00:00:00,\n",
    "# type=an,\n",
    "# param=2t,\n",
    "# target='/home/mlx/data/gribs/o96.grib\n",
    "\n",
    "# era = xr.load_dataset(f\"/home/mlx/data/gribs/{grid_type}{era_res}.grib\", engine=\"cfgrib\")\n",
    "# era\n",
    "\n",
    "era = xr.open_zarr(\"gs://weatherbench2/datasets/era5/1959-2022-6h-512x256_equiangular_conservative.zarr\")"
   ]
  },
  {
   "cell_type": "code",
   "execution_count": 57,
   "id": "grave-validation",
   "metadata": {},
   "outputs": [
    {
     "data": {
      "text/html": [
       "<div><svg style=\"position: absolute; width: 0; height: 0; overflow: hidden\">\n",
       "<defs>\n",
       "<symbol id=\"icon-database\" viewBox=\"0 0 32 32\">\n",
       "<path d=\"M16 0c-8.837 0-16 2.239-16 5v4c0 2.761 7.163 5 16 5s16-2.239 16-5v-4c0-2.761-7.163-5-16-5z\"></path>\n",
       "<path d=\"M16 17c-8.837 0-16-2.239-16-5v6c0 2.761 7.163 5 16 5s16-2.239 16-5v-6c0 2.761-7.163 5-16 5z\"></path>\n",
       "<path d=\"M16 26c-8.837 0-16-2.239-16-5v6c0 2.761 7.163 5 16 5s16-2.239 16-5v-6c0 2.761-7.163 5-16 5z\"></path>\n",
       "</symbol>\n",
       "<symbol id=\"icon-file-text2\" viewBox=\"0 0 32 32\">\n",
       "<path d=\"M28.681 7.159c-0.694-0.947-1.662-2.053-2.724-3.116s-2.169-2.030-3.116-2.724c-1.612-1.182-2.393-1.319-2.841-1.319h-15.5c-1.378 0-2.5 1.121-2.5 2.5v27c0 1.378 1.122 2.5 2.5 2.5h23c1.378 0 2.5-1.122 2.5-2.5v-19.5c0-0.448-0.137-1.23-1.319-2.841zM24.543 5.457c0.959 0.959 1.712 1.825 2.268 2.543h-4.811v-4.811c0.718 0.556 1.584 1.309 2.543 2.268zM28 29.5c0 0.271-0.229 0.5-0.5 0.5h-23c-0.271 0-0.5-0.229-0.5-0.5v-27c0-0.271 0.229-0.5 0.5-0.5 0 0 15.499-0 15.5 0v7c0 0.552 0.448 1 1 1h7v19.5z\"></path>\n",
       "<path d=\"M23 26h-14c-0.552 0-1-0.448-1-1s0.448-1 1-1h14c0.552 0 1 0.448 1 1s-0.448 1-1 1z\"></path>\n",
       "<path d=\"M23 22h-14c-0.552 0-1-0.448-1-1s0.448-1 1-1h14c0.552 0 1 0.448 1 1s-0.448 1-1 1z\"></path>\n",
       "<path d=\"M23 18h-14c-0.552 0-1-0.448-1-1s0.448-1 1-1h14c0.552 0 1 0.448 1 1s-0.448 1-1 1z\"></path>\n",
       "</symbol>\n",
       "</defs>\n",
       "</svg>\n",
       "<style>/* CSS stylesheet for displaying xarray objects in jupyterlab.\n",
       " *\n",
       " */\n",
       "\n",
       ":root {\n",
       "  --xr-font-color0: var(--jp-content-font-color0, rgba(0, 0, 0, 1));\n",
       "  --xr-font-color2: var(--jp-content-font-color2, rgba(0, 0, 0, 0.54));\n",
       "  --xr-font-color3: var(--jp-content-font-color3, rgba(0, 0, 0, 0.38));\n",
       "  --xr-border-color: var(--jp-border-color2, #e0e0e0);\n",
       "  --xr-disabled-color: var(--jp-layout-color3, #bdbdbd);\n",
       "  --xr-background-color: var(--jp-layout-color0, white);\n",
       "  --xr-background-color-row-even: var(--jp-layout-color1, white);\n",
       "  --xr-background-color-row-odd: var(--jp-layout-color2, #eeeeee);\n",
       "}\n",
       "\n",
       "html[theme=dark],\n",
       "body[data-theme=dark],\n",
       "body.vscode-dark {\n",
       "  --xr-font-color0: rgba(255, 255, 255, 1);\n",
       "  --xr-font-color2: rgba(255, 255, 255, 0.54);\n",
       "  --xr-font-color3: rgba(255, 255, 255, 0.38);\n",
       "  --xr-border-color: #1F1F1F;\n",
       "  --xr-disabled-color: #515151;\n",
       "  --xr-background-color: #111111;\n",
       "  --xr-background-color-row-even: #111111;\n",
       "  --xr-background-color-row-odd: #313131;\n",
       "}\n",
       "\n",
       ".xr-wrap {\n",
       "  display: block !important;\n",
       "  min-width: 300px;\n",
       "  max-width: 700px;\n",
       "}\n",
       "\n",
       ".xr-text-repr-fallback {\n",
       "  /* fallback to plain text repr when CSS is not injected (untrusted notebook) */\n",
       "  display: none;\n",
       "}\n",
       "\n",
       ".xr-header {\n",
       "  padding-top: 6px;\n",
       "  padding-bottom: 6px;\n",
       "  margin-bottom: 4px;\n",
       "  border-bottom: solid 1px var(--xr-border-color);\n",
       "}\n",
       "\n",
       ".xr-header > div,\n",
       ".xr-header > ul {\n",
       "  display: inline;\n",
       "  margin-top: 0;\n",
       "  margin-bottom: 0;\n",
       "}\n",
       "\n",
       ".xr-obj-type,\n",
       ".xr-array-name {\n",
       "  margin-left: 2px;\n",
       "  margin-right: 10px;\n",
       "}\n",
       "\n",
       ".xr-obj-type {\n",
       "  color: var(--xr-font-color2);\n",
       "}\n",
       "\n",
       ".xr-sections {\n",
       "  padding-left: 0 !important;\n",
       "  display: grid;\n",
       "  grid-template-columns: 150px auto auto 1fr 20px 20px;\n",
       "}\n",
       "\n",
       ".xr-section-item {\n",
       "  display: contents;\n",
       "}\n",
       "\n",
       ".xr-section-item input {\n",
       "  display: none;\n",
       "}\n",
       "\n",
       ".xr-section-item input + label {\n",
       "  color: var(--xr-disabled-color);\n",
       "}\n",
       "\n",
       ".xr-section-item input:enabled + label {\n",
       "  cursor: pointer;\n",
       "  color: var(--xr-font-color2);\n",
       "}\n",
       "\n",
       ".xr-section-item input:enabled + label:hover {\n",
       "  color: var(--xr-font-color0);\n",
       "}\n",
       "\n",
       ".xr-section-summary {\n",
       "  grid-column: 1;\n",
       "  color: var(--xr-font-color2);\n",
       "  font-weight: 500;\n",
       "}\n",
       "\n",
       ".xr-section-summary > span {\n",
       "  display: inline-block;\n",
       "  padding-left: 0.5em;\n",
       "}\n",
       "\n",
       ".xr-section-summary-in:disabled + label {\n",
       "  color: var(--xr-font-color2);\n",
       "}\n",
       "\n",
       ".xr-section-summary-in + label:before {\n",
       "  display: inline-block;\n",
       "  content: '►';\n",
       "  font-size: 11px;\n",
       "  width: 15px;\n",
       "  text-align: center;\n",
       "}\n",
       "\n",
       ".xr-section-summary-in:disabled + label:before {\n",
       "  color: var(--xr-disabled-color);\n",
       "}\n",
       "\n",
       ".xr-section-summary-in:checked + label:before {\n",
       "  content: '▼';\n",
       "}\n",
       "\n",
       ".xr-section-summary-in:checked + label > span {\n",
       "  display: none;\n",
       "}\n",
       "\n",
       ".xr-section-summary,\n",
       ".xr-section-inline-details {\n",
       "  padding-top: 4px;\n",
       "  padding-bottom: 4px;\n",
       "}\n",
       "\n",
       ".xr-section-inline-details {\n",
       "  grid-column: 2 / -1;\n",
       "}\n",
       "\n",
       ".xr-section-details {\n",
       "  display: none;\n",
       "  grid-column: 1 / -1;\n",
       "  margin-bottom: 5px;\n",
       "}\n",
       "\n",
       ".xr-section-summary-in:checked ~ .xr-section-details {\n",
       "  display: contents;\n",
       "}\n",
       "\n",
       ".xr-array-wrap {\n",
       "  grid-column: 1 / -1;\n",
       "  display: grid;\n",
       "  grid-template-columns: 20px auto;\n",
       "}\n",
       "\n",
       ".xr-array-wrap > label {\n",
       "  grid-column: 1;\n",
       "  vertical-align: top;\n",
       "}\n",
       "\n",
       ".xr-preview {\n",
       "  color: var(--xr-font-color3);\n",
       "}\n",
       "\n",
       ".xr-array-preview,\n",
       ".xr-array-data {\n",
       "  padding: 0 5px !important;\n",
       "  grid-column: 2;\n",
       "}\n",
       "\n",
       ".xr-array-data,\n",
       ".xr-array-in:checked ~ .xr-array-preview {\n",
       "  display: none;\n",
       "}\n",
       "\n",
       ".xr-array-in:checked ~ .xr-array-data,\n",
       ".xr-array-preview {\n",
       "  display: inline-block;\n",
       "}\n",
       "\n",
       ".xr-dim-list {\n",
       "  display: inline-block !important;\n",
       "  list-style: none;\n",
       "  padding: 0 !important;\n",
       "  margin: 0;\n",
       "}\n",
       "\n",
       ".xr-dim-list li {\n",
       "  display: inline-block;\n",
       "  padding: 0;\n",
       "  margin: 0;\n",
       "}\n",
       "\n",
       ".xr-dim-list:before {\n",
       "  content: '(';\n",
       "}\n",
       "\n",
       ".xr-dim-list:after {\n",
       "  content: ')';\n",
       "}\n",
       "\n",
       ".xr-dim-list li:not(:last-child):after {\n",
       "  content: ',';\n",
       "  padding-right: 5px;\n",
       "}\n",
       "\n",
       ".xr-has-index {\n",
       "  font-weight: bold;\n",
       "}\n",
       "\n",
       ".xr-var-list,\n",
       ".xr-var-item {\n",
       "  display: contents;\n",
       "}\n",
       "\n",
       ".xr-var-item > div,\n",
       ".xr-var-item label,\n",
       ".xr-var-item > .xr-var-name span {\n",
       "  background-color: var(--xr-background-color-row-even);\n",
       "  margin-bottom: 0;\n",
       "}\n",
       "\n",
       ".xr-var-item > .xr-var-name:hover span {\n",
       "  padding-right: 5px;\n",
       "}\n",
       "\n",
       ".xr-var-list > li:nth-child(odd) > div,\n",
       ".xr-var-list > li:nth-child(odd) > label,\n",
       ".xr-var-list > li:nth-child(odd) > .xr-var-name span {\n",
       "  background-color: var(--xr-background-color-row-odd);\n",
       "}\n",
       "\n",
       ".xr-var-name {\n",
       "  grid-column: 1;\n",
       "}\n",
       "\n",
       ".xr-var-dims {\n",
       "  grid-column: 2;\n",
       "}\n",
       "\n",
       ".xr-var-dtype {\n",
       "  grid-column: 3;\n",
       "  text-align: right;\n",
       "  color: var(--xr-font-color2);\n",
       "}\n",
       "\n",
       ".xr-var-preview {\n",
       "  grid-column: 4;\n",
       "}\n",
       "\n",
       ".xr-index-preview {\n",
       "  grid-column: 2 / 5;\n",
       "  color: var(--xr-font-color2);\n",
       "}\n",
       "\n",
       ".xr-var-name,\n",
       ".xr-var-dims,\n",
       ".xr-var-dtype,\n",
       ".xr-preview,\n",
       ".xr-attrs dt {\n",
       "  white-space: nowrap;\n",
       "  overflow: hidden;\n",
       "  text-overflow: ellipsis;\n",
       "  padding-right: 10px;\n",
       "}\n",
       "\n",
       ".xr-var-name:hover,\n",
       ".xr-var-dims:hover,\n",
       ".xr-var-dtype:hover,\n",
       ".xr-attrs dt:hover {\n",
       "  overflow: visible;\n",
       "  width: auto;\n",
       "  z-index: 1;\n",
       "}\n",
       "\n",
       ".xr-var-attrs,\n",
       ".xr-var-data,\n",
       ".xr-index-data {\n",
       "  display: none;\n",
       "  background-color: var(--xr-background-color) !important;\n",
       "  padding-bottom: 5px !important;\n",
       "}\n",
       "\n",
       ".xr-var-attrs-in:checked ~ .xr-var-attrs,\n",
       ".xr-var-data-in:checked ~ .xr-var-data,\n",
       ".xr-index-data-in:checked ~ .xr-index-data {\n",
       "  display: block;\n",
       "}\n",
       "\n",
       ".xr-var-data > table {\n",
       "  float: right;\n",
       "}\n",
       "\n",
       ".xr-var-name span,\n",
       ".xr-var-data,\n",
       ".xr-index-name div,\n",
       ".xr-index-data,\n",
       ".xr-attrs {\n",
       "  padding-left: 25px !important;\n",
       "}\n",
       "\n",
       ".xr-attrs,\n",
       ".xr-var-attrs,\n",
       ".xr-var-data,\n",
       ".xr-index-data {\n",
       "  grid-column: 1 / -1;\n",
       "}\n",
       "\n",
       "dl.xr-attrs {\n",
       "  padding: 0;\n",
       "  margin: 0;\n",
       "  display: grid;\n",
       "  grid-template-columns: 125px auto;\n",
       "}\n",
       "\n",
       ".xr-attrs dt,\n",
       ".xr-attrs dd {\n",
       "  padding: 0;\n",
       "  margin: 0;\n",
       "  float: left;\n",
       "  padding-right: 10px;\n",
       "  width: auto;\n",
       "}\n",
       "\n",
       ".xr-attrs dt {\n",
       "  font-weight: normal;\n",
       "  grid-column: 1;\n",
       "}\n",
       "\n",
       ".xr-attrs dt:hover span {\n",
       "  display: inline-block;\n",
       "  background: var(--xr-background-color);\n",
       "  padding-right: 10px;\n",
       "}\n",
       "\n",
       ".xr-attrs dd {\n",
       "  grid-column: 2;\n",
       "  white-space: pre-wrap;\n",
       "  word-break: break-all;\n",
       "}\n",
       "\n",
       ".xr-icon-database,\n",
       ".xr-icon-file-text2,\n",
       ".xr-no-icon {\n",
       "  display: inline-block;\n",
       "  vertical-align: middle;\n",
       "  width: 1em;\n",
       "  height: 1.5em !important;\n",
       "  stroke-width: 0;\n",
       "  stroke: currentColor;\n",
       "  fill: currentColor;\n",
       "}\n",
       "</style><pre class='xr-text-repr-fallback'>&lt;xarray.DataArray &#x27;latitude&#x27; (latitude: 256)&gt;\n",
       "array([-89.648437, -88.945312, -88.242187, ...,  88.242187,  88.945312,\n",
       "        89.648437])\n",
       "Coordinates:\n",
       "  * latitude  (latitude) float64 -89.65 -88.95 -88.24 ... 88.24 88.95 89.65</pre><div class='xr-wrap' style='display:none'><div class='xr-header'><div class='xr-obj-type'>xarray.DataArray</div><div class='xr-array-name'>'latitude'</div><ul class='xr-dim-list'><li><span class='xr-has-index'>latitude</span>: 256</li></ul></div><ul class='xr-sections'><li class='xr-section-item'><div class='xr-array-wrap'><input id='section-e6f8b20a-1b7a-4432-8658-0335201d84fd' class='xr-array-in' type='checkbox' checked><label for='section-e6f8b20a-1b7a-4432-8658-0335201d84fd' title='Show/hide data repr'><svg class='icon xr-icon-database'><use xlink:href='#icon-database'></use></svg></label><div class='xr-array-preview xr-preview'><span>-89.65 -88.95 -88.24 -87.54 -86.84 ... 86.84 87.54 88.24 88.95 89.65</span></div><div class='xr-array-data'><pre>array([-89.648437, -88.945312, -88.242187, ...,  88.242187,  88.945312,\n",
       "        89.648437])</pre></div></div></li><li class='xr-section-item'><input id='section-1afd8bf8-a156-44d7-8e03-1759c80b8f18' class='xr-section-summary-in' type='checkbox'  checked><label for='section-1afd8bf8-a156-44d7-8e03-1759c80b8f18' class='xr-section-summary' >Coordinates: <span>(1)</span></label><div class='xr-section-inline-details'></div><div class='xr-section-details'><ul class='xr-var-list'><li class='xr-var-item'><div class='xr-var-name'><span class='xr-has-index'>latitude</span></div><div class='xr-var-dims'>(latitude)</div><div class='xr-var-dtype'>float64</div><div class='xr-var-preview xr-preview'>-89.65 -88.95 ... 88.95 89.65</div><input id='attrs-50056ca3-1f94-4627-a24d-396b4828f706' class='xr-var-attrs-in' type='checkbox' disabled><label for='attrs-50056ca3-1f94-4627-a24d-396b4828f706' title='Show/Hide attributes'><svg class='icon xr-icon-file-text2'><use xlink:href='#icon-file-text2'></use></svg></label><input id='data-02dacd81-8324-4a59-bdac-602454056bee' class='xr-var-data-in' type='checkbox'><label for='data-02dacd81-8324-4a59-bdac-602454056bee' title='Show/Hide data repr'><svg class='icon xr-icon-database'><use xlink:href='#icon-database'></use></svg></label><div class='xr-var-attrs'><dl class='xr-attrs'></dl></div><div class='xr-var-data'><pre>array([-89.648437, -88.945312, -88.242187, ...,  88.242187,  88.945312,\n",
       "        89.648437])</pre></div></li></ul></div></li><li class='xr-section-item'><input id='section-654443c2-6635-4f40-8970-7b231f578747' class='xr-section-summary-in' type='checkbox'  ><label for='section-654443c2-6635-4f40-8970-7b231f578747' class='xr-section-summary' >Indexes: <span>(1)</span></label><div class='xr-section-inline-details'></div><div class='xr-section-details'><ul class='xr-var-list'><li class='xr-var-item'><div class='xr-index-name'><div>latitude</div></div><div class='xr-index-preview'>PandasIndex</div><div></div><input id='index-eb43b12f-c02b-4d71-aab0-6e2d7bd5c1d6' class='xr-index-data-in' type='checkbox'/><label for='index-eb43b12f-c02b-4d71-aab0-6e2d7bd5c1d6' title='Show/Hide index repr'><svg class='icon xr-icon-database'><use xlink:href='#icon-database'></use></svg></label><div class='xr-index-data'><pre>PandasIndex(Index([ -89.6484374999997, -88.94531249999994, -88.24218749999997,\n",
       "       -87.53906249999997, -86.83593750000003, -86.13281250000003,\n",
       "       -85.42968749999996, -84.72656250000001, -84.02343749999999,\n",
       "       -83.32031249999999,\n",
       "       ...\n",
       "        83.32031249999999,  84.02343749999999,  84.72656250000001,\n",
       "        85.42968749999996,  86.13281250000003,  86.83593750000003,\n",
       "        87.53906249999997,  88.24218749999997,  88.94531249999994,\n",
       "         89.6484374999997],\n",
       "      dtype=&#x27;float64&#x27;, name=&#x27;latitude&#x27;, length=256))</pre></div></li></ul></div></li><li class='xr-section-item'><input id='section-1b896c82-6f73-4a1e-a791-179e7d30ea9e' class='xr-section-summary-in' type='checkbox' disabled ><label for='section-1b896c82-6f73-4a1e-a791-179e7d30ea9e' class='xr-section-summary'  title='Expand/collapse section'>Attributes: <span>(0)</span></label><div class='xr-section-inline-details'></div><div class='xr-section-details'><dl class='xr-attrs'></dl></div></li></ul></div></div>"
      ],
      "text/plain": [
       "<xarray.DataArray 'latitude' (latitude: 256)>\n",
       "array([-89.648437, -88.945312, -88.242187, ...,  88.242187,  88.945312,\n",
       "        89.648437])\n",
       "Coordinates:\n",
       "  * latitude  (latitude) float64 -89.65 -88.95 -88.24 ... 88.24 88.95 89.65"
      ]
     },
     "execution_count": 57,
     "metadata": {},
     "output_type": "execute_result"
    }
   ],
   "source": [
    "era.latitude"
   ]
  },
  {
   "cell_type": "code",
   "execution_count": 58,
   "metadata": {},
   "outputs": [
    {
     "data": {
      "text/html": [
       "<div><svg style=\"position: absolute; width: 0; height: 0; overflow: hidden\">\n",
       "<defs>\n",
       "<symbol id=\"icon-database\" viewBox=\"0 0 32 32\">\n",
       "<path d=\"M16 0c-8.837 0-16 2.239-16 5v4c0 2.761 7.163 5 16 5s16-2.239 16-5v-4c0-2.761-7.163-5-16-5z\"></path>\n",
       "<path d=\"M16 17c-8.837 0-16-2.239-16-5v6c0 2.761 7.163 5 16 5s16-2.239 16-5v-6c0 2.761-7.163 5-16 5z\"></path>\n",
       "<path d=\"M16 26c-8.837 0-16-2.239-16-5v6c0 2.761 7.163 5 16 5s16-2.239 16-5v-6c0 2.761-7.163 5-16 5z\"></path>\n",
       "</symbol>\n",
       "<symbol id=\"icon-file-text2\" viewBox=\"0 0 32 32\">\n",
       "<path d=\"M28.681 7.159c-0.694-0.947-1.662-2.053-2.724-3.116s-2.169-2.030-3.116-2.724c-1.612-1.182-2.393-1.319-2.841-1.319h-15.5c-1.378 0-2.5 1.121-2.5 2.5v27c0 1.378 1.122 2.5 2.5 2.5h23c1.378 0 2.5-1.122 2.5-2.5v-19.5c0-0.448-0.137-1.23-1.319-2.841zM24.543 5.457c0.959 0.959 1.712 1.825 2.268 2.543h-4.811v-4.811c0.718 0.556 1.584 1.309 2.543 2.268zM28 29.5c0 0.271-0.229 0.5-0.5 0.5h-23c-0.271 0-0.5-0.229-0.5-0.5v-27c0-0.271 0.229-0.5 0.5-0.5 0 0 15.499-0 15.5 0v7c0 0.552 0.448 1 1 1h7v19.5z\"></path>\n",
       "<path d=\"M23 26h-14c-0.552 0-1-0.448-1-1s0.448-1 1-1h14c0.552 0 1 0.448 1 1s-0.448 1-1 1z\"></path>\n",
       "<path d=\"M23 22h-14c-0.552 0-1-0.448-1-1s0.448-1 1-1h14c0.552 0 1 0.448 1 1s-0.448 1-1 1z\"></path>\n",
       "<path d=\"M23 18h-14c-0.552 0-1-0.448-1-1s0.448-1 1-1h14c0.552 0 1 0.448 1 1s-0.448 1-1 1z\"></path>\n",
       "</symbol>\n",
       "</defs>\n",
       "</svg>\n",
       "<style>/* CSS stylesheet for displaying xarray objects in jupyterlab.\n",
       " *\n",
       " */\n",
       "\n",
       ":root {\n",
       "  --xr-font-color0: var(--jp-content-font-color0, rgba(0, 0, 0, 1));\n",
       "  --xr-font-color2: var(--jp-content-font-color2, rgba(0, 0, 0, 0.54));\n",
       "  --xr-font-color3: var(--jp-content-font-color3, rgba(0, 0, 0, 0.38));\n",
       "  --xr-border-color: var(--jp-border-color2, #e0e0e0);\n",
       "  --xr-disabled-color: var(--jp-layout-color3, #bdbdbd);\n",
       "  --xr-background-color: var(--jp-layout-color0, white);\n",
       "  --xr-background-color-row-even: var(--jp-layout-color1, white);\n",
       "  --xr-background-color-row-odd: var(--jp-layout-color2, #eeeeee);\n",
       "}\n",
       "\n",
       "html[theme=dark],\n",
       "body[data-theme=dark],\n",
       "body.vscode-dark {\n",
       "  --xr-font-color0: rgba(255, 255, 255, 1);\n",
       "  --xr-font-color2: rgba(255, 255, 255, 0.54);\n",
       "  --xr-font-color3: rgba(255, 255, 255, 0.38);\n",
       "  --xr-border-color: #1F1F1F;\n",
       "  --xr-disabled-color: #515151;\n",
       "  --xr-background-color: #111111;\n",
       "  --xr-background-color-row-even: #111111;\n",
       "  --xr-background-color-row-odd: #313131;\n",
       "}\n",
       "\n",
       ".xr-wrap {\n",
       "  display: block !important;\n",
       "  min-width: 300px;\n",
       "  max-width: 700px;\n",
       "}\n",
       "\n",
       ".xr-text-repr-fallback {\n",
       "  /* fallback to plain text repr when CSS is not injected (untrusted notebook) */\n",
       "  display: none;\n",
       "}\n",
       "\n",
       ".xr-header {\n",
       "  padding-top: 6px;\n",
       "  padding-bottom: 6px;\n",
       "  margin-bottom: 4px;\n",
       "  border-bottom: solid 1px var(--xr-border-color);\n",
       "}\n",
       "\n",
       ".xr-header > div,\n",
       ".xr-header > ul {\n",
       "  display: inline;\n",
       "  margin-top: 0;\n",
       "  margin-bottom: 0;\n",
       "}\n",
       "\n",
       ".xr-obj-type,\n",
       ".xr-array-name {\n",
       "  margin-left: 2px;\n",
       "  margin-right: 10px;\n",
       "}\n",
       "\n",
       ".xr-obj-type {\n",
       "  color: var(--xr-font-color2);\n",
       "}\n",
       "\n",
       ".xr-sections {\n",
       "  padding-left: 0 !important;\n",
       "  display: grid;\n",
       "  grid-template-columns: 150px auto auto 1fr 20px 20px;\n",
       "}\n",
       "\n",
       ".xr-section-item {\n",
       "  display: contents;\n",
       "}\n",
       "\n",
       ".xr-section-item input {\n",
       "  display: none;\n",
       "}\n",
       "\n",
       ".xr-section-item input + label {\n",
       "  color: var(--xr-disabled-color);\n",
       "}\n",
       "\n",
       ".xr-section-item input:enabled + label {\n",
       "  cursor: pointer;\n",
       "  color: var(--xr-font-color2);\n",
       "}\n",
       "\n",
       ".xr-section-item input:enabled + label:hover {\n",
       "  color: var(--xr-font-color0);\n",
       "}\n",
       "\n",
       ".xr-section-summary {\n",
       "  grid-column: 1;\n",
       "  color: var(--xr-font-color2);\n",
       "  font-weight: 500;\n",
       "}\n",
       "\n",
       ".xr-section-summary > span {\n",
       "  display: inline-block;\n",
       "  padding-left: 0.5em;\n",
       "}\n",
       "\n",
       ".xr-section-summary-in:disabled + label {\n",
       "  color: var(--xr-font-color2);\n",
       "}\n",
       "\n",
       ".xr-section-summary-in + label:before {\n",
       "  display: inline-block;\n",
       "  content: '►';\n",
       "  font-size: 11px;\n",
       "  width: 15px;\n",
       "  text-align: center;\n",
       "}\n",
       "\n",
       ".xr-section-summary-in:disabled + label:before {\n",
       "  color: var(--xr-disabled-color);\n",
       "}\n",
       "\n",
       ".xr-section-summary-in:checked + label:before {\n",
       "  content: '▼';\n",
       "}\n",
       "\n",
       ".xr-section-summary-in:checked + label > span {\n",
       "  display: none;\n",
       "}\n",
       "\n",
       ".xr-section-summary,\n",
       ".xr-section-inline-details {\n",
       "  padding-top: 4px;\n",
       "  padding-bottom: 4px;\n",
       "}\n",
       "\n",
       ".xr-section-inline-details {\n",
       "  grid-column: 2 / -1;\n",
       "}\n",
       "\n",
       ".xr-section-details {\n",
       "  display: none;\n",
       "  grid-column: 1 / -1;\n",
       "  margin-bottom: 5px;\n",
       "}\n",
       "\n",
       ".xr-section-summary-in:checked ~ .xr-section-details {\n",
       "  display: contents;\n",
       "}\n",
       "\n",
       ".xr-array-wrap {\n",
       "  grid-column: 1 / -1;\n",
       "  display: grid;\n",
       "  grid-template-columns: 20px auto;\n",
       "}\n",
       "\n",
       ".xr-array-wrap > label {\n",
       "  grid-column: 1;\n",
       "  vertical-align: top;\n",
       "}\n",
       "\n",
       ".xr-preview {\n",
       "  color: var(--xr-font-color3);\n",
       "}\n",
       "\n",
       ".xr-array-preview,\n",
       ".xr-array-data {\n",
       "  padding: 0 5px !important;\n",
       "  grid-column: 2;\n",
       "}\n",
       "\n",
       ".xr-array-data,\n",
       ".xr-array-in:checked ~ .xr-array-preview {\n",
       "  display: none;\n",
       "}\n",
       "\n",
       ".xr-array-in:checked ~ .xr-array-data,\n",
       ".xr-array-preview {\n",
       "  display: inline-block;\n",
       "}\n",
       "\n",
       ".xr-dim-list {\n",
       "  display: inline-block !important;\n",
       "  list-style: none;\n",
       "  padding: 0 !important;\n",
       "  margin: 0;\n",
       "}\n",
       "\n",
       ".xr-dim-list li {\n",
       "  display: inline-block;\n",
       "  padding: 0;\n",
       "  margin: 0;\n",
       "}\n",
       "\n",
       ".xr-dim-list:before {\n",
       "  content: '(';\n",
       "}\n",
       "\n",
       ".xr-dim-list:after {\n",
       "  content: ')';\n",
       "}\n",
       "\n",
       ".xr-dim-list li:not(:last-child):after {\n",
       "  content: ',';\n",
       "  padding-right: 5px;\n",
       "}\n",
       "\n",
       ".xr-has-index {\n",
       "  font-weight: bold;\n",
       "}\n",
       "\n",
       ".xr-var-list,\n",
       ".xr-var-item {\n",
       "  display: contents;\n",
       "}\n",
       "\n",
       ".xr-var-item > div,\n",
       ".xr-var-item label,\n",
       ".xr-var-item > .xr-var-name span {\n",
       "  background-color: var(--xr-background-color-row-even);\n",
       "  margin-bottom: 0;\n",
       "}\n",
       "\n",
       ".xr-var-item > .xr-var-name:hover span {\n",
       "  padding-right: 5px;\n",
       "}\n",
       "\n",
       ".xr-var-list > li:nth-child(odd) > div,\n",
       ".xr-var-list > li:nth-child(odd) > label,\n",
       ".xr-var-list > li:nth-child(odd) > .xr-var-name span {\n",
       "  background-color: var(--xr-background-color-row-odd);\n",
       "}\n",
       "\n",
       ".xr-var-name {\n",
       "  grid-column: 1;\n",
       "}\n",
       "\n",
       ".xr-var-dims {\n",
       "  grid-column: 2;\n",
       "}\n",
       "\n",
       ".xr-var-dtype {\n",
       "  grid-column: 3;\n",
       "  text-align: right;\n",
       "  color: var(--xr-font-color2);\n",
       "}\n",
       "\n",
       ".xr-var-preview {\n",
       "  grid-column: 4;\n",
       "}\n",
       "\n",
       ".xr-index-preview {\n",
       "  grid-column: 2 / 5;\n",
       "  color: var(--xr-font-color2);\n",
       "}\n",
       "\n",
       ".xr-var-name,\n",
       ".xr-var-dims,\n",
       ".xr-var-dtype,\n",
       ".xr-preview,\n",
       ".xr-attrs dt {\n",
       "  white-space: nowrap;\n",
       "  overflow: hidden;\n",
       "  text-overflow: ellipsis;\n",
       "  padding-right: 10px;\n",
       "}\n",
       "\n",
       ".xr-var-name:hover,\n",
       ".xr-var-dims:hover,\n",
       ".xr-var-dtype:hover,\n",
       ".xr-attrs dt:hover {\n",
       "  overflow: visible;\n",
       "  width: auto;\n",
       "  z-index: 1;\n",
       "}\n",
       "\n",
       ".xr-var-attrs,\n",
       ".xr-var-data,\n",
       ".xr-index-data {\n",
       "  display: none;\n",
       "  background-color: var(--xr-background-color) !important;\n",
       "  padding-bottom: 5px !important;\n",
       "}\n",
       "\n",
       ".xr-var-attrs-in:checked ~ .xr-var-attrs,\n",
       ".xr-var-data-in:checked ~ .xr-var-data,\n",
       ".xr-index-data-in:checked ~ .xr-index-data {\n",
       "  display: block;\n",
       "}\n",
       "\n",
       ".xr-var-data > table {\n",
       "  float: right;\n",
       "}\n",
       "\n",
       ".xr-var-name span,\n",
       ".xr-var-data,\n",
       ".xr-index-name div,\n",
       ".xr-index-data,\n",
       ".xr-attrs {\n",
       "  padding-left: 25px !important;\n",
       "}\n",
       "\n",
       ".xr-attrs,\n",
       ".xr-var-attrs,\n",
       ".xr-var-data,\n",
       ".xr-index-data {\n",
       "  grid-column: 1 / -1;\n",
       "}\n",
       "\n",
       "dl.xr-attrs {\n",
       "  padding: 0;\n",
       "  margin: 0;\n",
       "  display: grid;\n",
       "  grid-template-columns: 125px auto;\n",
       "}\n",
       "\n",
       ".xr-attrs dt,\n",
       ".xr-attrs dd {\n",
       "  padding: 0;\n",
       "  margin: 0;\n",
       "  float: left;\n",
       "  padding-right: 10px;\n",
       "  width: auto;\n",
       "}\n",
       "\n",
       ".xr-attrs dt {\n",
       "  font-weight: normal;\n",
       "  grid-column: 1;\n",
       "}\n",
       "\n",
       ".xr-attrs dt:hover span {\n",
       "  display: inline-block;\n",
       "  background: var(--xr-background-color);\n",
       "  padding-right: 10px;\n",
       "}\n",
       "\n",
       ".xr-attrs dd {\n",
       "  grid-column: 2;\n",
       "  white-space: pre-wrap;\n",
       "  word-break: break-all;\n",
       "}\n",
       "\n",
       ".xr-icon-database,\n",
       ".xr-icon-file-text2,\n",
       ".xr-no-icon {\n",
       "  display: inline-block;\n",
       "  vertical-align: middle;\n",
       "  width: 1em;\n",
       "  height: 1.5em !important;\n",
       "  stroke-width: 0;\n",
       "  stroke: currentColor;\n",
       "  fill: currentColor;\n",
       "}\n",
       "</style><pre class='xr-text-repr-fallback'>&lt;xarray.DataArray &#x27;longitude&#x27; (longitude: 512)&gt;\n",
       "array([  0.      ,   0.703125,   1.40625 , ..., 357.890625, 358.59375 ,\n",
       "       359.296875])\n",
       "Coordinates:\n",
       "  * longitude  (longitude) float64 0.0 0.7031 1.406 2.109 ... 357.9 358.6 359.3</pre><div class='xr-wrap' style='display:none'><div class='xr-header'><div class='xr-obj-type'>xarray.DataArray</div><div class='xr-array-name'>'longitude'</div><ul class='xr-dim-list'><li><span class='xr-has-index'>longitude</span>: 512</li></ul></div><ul class='xr-sections'><li class='xr-section-item'><div class='xr-array-wrap'><input id='section-999920e5-0a3f-48ca-b7c4-0f83c48ef46c' class='xr-array-in' type='checkbox' checked><label for='section-999920e5-0a3f-48ca-b7c4-0f83c48ef46c' title='Show/hide data repr'><svg class='icon xr-icon-database'><use xlink:href='#icon-database'></use></svg></label><div class='xr-array-preview xr-preview'><span>0.0 0.7031 1.406 2.109 2.812 3.516 ... 356.5 357.2 357.9 358.6 359.3</span></div><div class='xr-array-data'><pre>array([  0.      ,   0.703125,   1.40625 , ..., 357.890625, 358.59375 ,\n",
       "       359.296875])</pre></div></div></li><li class='xr-section-item'><input id='section-7f0c4e1e-00f1-4c15-aca9-65294e706319' class='xr-section-summary-in' type='checkbox'  checked><label for='section-7f0c4e1e-00f1-4c15-aca9-65294e706319' class='xr-section-summary' >Coordinates: <span>(1)</span></label><div class='xr-section-inline-details'></div><div class='xr-section-details'><ul class='xr-var-list'><li class='xr-var-item'><div class='xr-var-name'><span class='xr-has-index'>longitude</span></div><div class='xr-var-dims'>(longitude)</div><div class='xr-var-dtype'>float64</div><div class='xr-var-preview xr-preview'>0.0 0.7031 1.406 ... 358.6 359.3</div><input id='attrs-73e5eaf7-4918-44ab-8158-026364331980' class='xr-var-attrs-in' type='checkbox' disabled><label for='attrs-73e5eaf7-4918-44ab-8158-026364331980' title='Show/Hide attributes'><svg class='icon xr-icon-file-text2'><use xlink:href='#icon-file-text2'></use></svg></label><input id='data-50c4367e-a6dc-4238-9e4b-e1f96e0460ab' class='xr-var-data-in' type='checkbox'><label for='data-50c4367e-a6dc-4238-9e4b-e1f96e0460ab' title='Show/Hide data repr'><svg class='icon xr-icon-database'><use xlink:href='#icon-database'></use></svg></label><div class='xr-var-attrs'><dl class='xr-attrs'></dl></div><div class='xr-var-data'><pre>array([  0.      ,   0.703125,   1.40625 , ..., 357.890625, 358.59375 ,\n",
       "       359.296875])</pre></div></li></ul></div></li><li class='xr-section-item'><input id='section-e8c2c03e-cc14-442f-9d96-9a0ceaf20cac' class='xr-section-summary-in' type='checkbox'  ><label for='section-e8c2c03e-cc14-442f-9d96-9a0ceaf20cac' class='xr-section-summary' >Indexes: <span>(1)</span></label><div class='xr-section-inline-details'></div><div class='xr-section-details'><ul class='xr-var-list'><li class='xr-var-item'><div class='xr-index-name'><div>longitude</div></div><div class='xr-index-preview'>PandasIndex</div><div></div><input id='index-3cca69cf-35e9-4d4e-8954-87f860ff7d06' class='xr-index-data-in' type='checkbox'/><label for='index-3cca69cf-35e9-4d4e-8954-87f860ff7d06' title='Show/Hide index repr'><svg class='icon xr-icon-database'><use xlink:href='#icon-database'></use></svg></label><div class='xr-index-data'><pre>PandasIndex(Index([       0.0,   0.703125,    1.40625,   2.109375,     2.8125,   3.515625,\n",
       "          4.21875,   4.921875,      5.625,   6.328125,\n",
       "       ...\n",
       "        352.96875, 353.671875,    354.375, 355.078125,  355.78125, 356.484375,\n",
       "         357.1875, 357.890625,  358.59375, 359.296875],\n",
       "      dtype=&#x27;float64&#x27;, name=&#x27;longitude&#x27;, length=512))</pre></div></li></ul></div></li><li class='xr-section-item'><input id='section-8930ac63-4048-466d-b3f2-7b00be72dfe8' class='xr-section-summary-in' type='checkbox' disabled ><label for='section-8930ac63-4048-466d-b3f2-7b00be72dfe8' class='xr-section-summary'  title='Expand/collapse section'>Attributes: <span>(0)</span></label><div class='xr-section-inline-details'></div><div class='xr-section-details'><dl class='xr-attrs'></dl></div></li></ul></div></div>"
      ],
      "text/plain": [
       "<xarray.DataArray 'longitude' (longitude: 512)>\n",
       "array([  0.      ,   0.703125,   1.40625 , ..., 357.890625, 358.59375 ,\n",
       "       359.296875])\n",
       "Coordinates:\n",
       "  * longitude  (longitude) float64 0.0 0.7031 1.406 2.109 ... 357.9 358.6 359.3"
      ]
     },
     "execution_count": 58,
     "metadata": {},
     "output_type": "execute_result"
    }
   ],
   "source": [
    "era.longitude"
   ]
  },
  {
   "cell_type": "code",
   "execution_count": 59,
   "id": "9a9b8a0b",
   "metadata": {},
   "outputs": [],
   "source": [
    "#era.latitude.size, era[\"t2m\"].size"
   ]
  },
  {
   "cell_type": "code",
   "execution_count": 60,
   "id": "d2450fec",
   "metadata": {},
   "outputs": [],
   "source": [
    "# grid_n_lons = era[\"t2m\"].GRIB_pl\n",
    "# tlat = grid_n_lons.shape[0]\n",
    "# mlon = grid_n_lons.max()\n",
    "# area_weights = []\n",
    "# nind = 0\n",
    "\n",
    "# for i in range(tlat):\n",
    "#     nlon = grid_n_lons[i]\n",
    "#     area = np.cos(np.deg2rad(era.latitude[nind].data))*mlon/nlon\n",
    "#     area_weights.extend([area]*nlon)\n",
    "#     nind+=nlon\n",
    "# print(len(area_weights),era.latitude.size)\n",
    "\n",
    "# assert(len(area_weights)==era.latitude.size)"
   ]
  },
  {
   "cell_type": "code",
   "execution_count": 61,
   "id": "chubby-requirement",
   "metadata": {},
   "outputs": [],
   "source": [
    "# only works for oct. grid\n",
    "# area_weights = []\n",
    "# nind = 0\n",
    "# nlon = 20\n",
    "# tlat = era_res\n",
    "# mlon = 4*tlat+16\n",
    "# for i in range(tlat):\n",
    "#     area = np.cos(np.deg2rad(era.latitude[nind].data))*mlon/nlon\n",
    "#     area_weights.extend([area]*nlon)\n",
    "#     #print(era.latitude[nind].data,era.longitude[nind].data,area)\n",
    "#     nind+=nlon\n",
    "#     nlon+=4\n",
    "# area_weights.extend(area_weights[::-1])\n",
    "# print(len(area_weights),era.latitude.size)\n",
    "\n",
    "# assert(len(area_weights)==era.latitude.size)"
   ]
  },
  {
   "cell_type": "code",
   "execution_count": 62,
   "id": "850d3baa",
   "metadata": {},
   "outputs": [],
   "source": [
    "area_weights=np.ones(era.latitude.size)"
   ]
  },
  {
   "cell_type": "code",
   "execution_count": 63,
   "id": "disturbed-houston",
   "metadata": {},
   "outputs": [
    {
     "data": {
      "text/plain": [
       "(256, 256.0)"
      ]
     },
     "execution_count": 63,
     "metadata": {},
     "output_type": "execute_result"
    }
   ],
   "source": [
    "len(area_weights), np.array(area_weights).sum()"
   ]
  },
  {
   "cell_type": "code",
   "execution_count": 64,
   "id": "mathematical-oriental",
   "metadata": {},
   "outputs": [
    {
     "data": {
      "text/plain": [
       "(<xarray.DataArray 'longitude' ()>\n",
       " array(0.),\n",
       " <xarray.DataArray 'longitude' ()>\n",
       " array(359.296875))"
      ]
     },
     "execution_count": 64,
     "metadata": {},
     "output_type": "execute_result"
    }
   ],
   "source": [
    "era.longitude.min(), era.longitude.max()"
   ]
  },
  {
   "cell_type": "code",
   "execution_count": 65,
   "id": "pressed-horizontal",
   "metadata": {},
   "outputs": [
    {
     "data": {
      "text/plain": [
       "(<xarray.DataArray 'latitude' ()>\n",
       " array(-89.6484375),\n",
       " <xarray.DataArray 'latitude' ()>\n",
       " array(89.6484375))"
      ]
     },
     "execution_count": 65,
     "metadata": {},
     "output_type": "execute_result"
    }
   ],
   "source": [
    "era.latitude.min(), era.latitude.max()"
   ]
  },
  {
   "cell_type": "code",
   "execution_count": 66,
   "id": "possible-nitrogen",
   "metadata": {},
   "outputs": [
    {
     "name": "stdout",
     "output_type": "stream",
     "text": [
      "dcoords_sp.shape = (131072, 2)\n"
     ]
    }
   ],
   "source": [
    "elat = np.array(era[\"latitude\"])\n",
    "elon = np.array(era[\"longitude\"])\n",
    "# ecoords = np.stack([elat, elon], axis=-1).reshape((-1, 2))\n",
    "ecoords = [[i,j] for i in elat for j in elon]\n",
    "ecoords_sp = np.deg2rad(ecoords)\n",
    "print(f\"dcoords_sp.shape = {ecoords_sp.shape}\")"
   ]
  },
  {
   "cell_type": "code",
   "execution_count": 67,
   "id": "resistant-gossip",
   "metadata": {},
   "outputs": [
    {
     "name": "stdout",
     "output_type": "stream",
     "text": [
      "eadjmat.shape = (131072, 131072)\n"
     ]
    }
   ],
   "source": [
    "NUM_ERA_NEIGHBORS = 3 # this is never used, we could put 3 here to speed up graph generation\n",
    "\n",
    "eneigh = NearestNeighbors(n_neighbors=NUM_ERA_NEIGHBORS, metric=\"haversine\", n_jobs=4)\n",
    "eneigh.fit(ecoords_sp)\n",
    "\n",
    "eadjmat = eneigh.kneighbors_graph(ecoords_sp, NUM_ERA_NEIGHBORS, mode=\"distance\").tocoo()\n",
    "print(f\"eadjmat.shape = {eadjmat.shape}\")"
   ]
  },
  {
   "cell_type": "code",
   "execution_count": 68,
   "id": "alert-explosion",
   "metadata": {},
   "outputs": [
    {
     "data": {
      "text/plain": [
       "<131072x131072 sparse matrix of type '<class 'numpy.float64'>'\n",
       "\twith 393216 stored elements in COOrdinate format>"
      ]
     },
     "execution_count": 68,
     "metadata": {},
     "output_type": "execute_result"
    }
   ],
   "source": [
    "eadjmat"
   ]
  },
  {
   "cell_type": "code",
   "execution_count": 69,
   "id": "closed-closure",
   "metadata": {},
   "outputs": [],
   "source": [
    "from sklearn.preprocessing import normalize\n",
    "eadjmat_norm = normalize(eadjmat, norm=\"l1\", axis=1)\n",
    "eadjmat_norm.data = 1.0 - eadjmat_norm.data"
   ]
  },
  {
   "cell_type": "code",
   "execution_count": 70,
   "id": "random-thickness",
   "metadata": {},
   "outputs": [],
   "source": [
    "era2era_key = (\"era\", \"to\", \"era\")\n",
    "\n",
    "era2era_gdata = {\n",
    "    # we should swap rows and cols here. It does not matter too much since the\n",
    "    # adjacency matrix is symmetric but better be consistent\n",
    "    \"edge_index\": torch.from_numpy(np.stack([eadjmat.col, eadjmat.row], axis=0).astype(np.int64)),\n",
    "    \"edge_attr\": torch.from_numpy(np.expand_dims(eadjmat_norm.data, axis=-1).astype(np.float32)),\n",
    "    \"ecoords_rad\": torch.from_numpy(ecoords_sp.astype(np.float32)),\n",
    "    \"info\": f\"o{era_res}_to_o{era_res} graph\",\n",
    "    'area_weights':torch.from_numpy(np.array(area_weights)),\n",
    "}"
   ]
  },
  {
   "cell_type": "code",
   "execution_count": 71,
   "id": "headed-victim",
   "metadata": {},
   "outputs": [
    {
     "name": "stdout",
     "output_type": "stream",
     "text": [
      "10242 81900\n",
      "[18, 3382, 3390, 8936, 5912, 9334]\n",
      "[(18, 3382), (18, 3390), (18, 8936), (18, 5912), (18, 9334), (18, 6310)]\n",
      "{'hcoords_rad': array([1.5707964, 0.       ], dtype=float32)}\n",
      "{'weight': 0.034598426022827575}\n",
      "-------------------\n"
     ]
    },
    {
     "data": {
      "text/plain": [
       "((10242, 2),\n",
       " <10242x10242 sparse array of type '<class 'numpy.float64'>'\n",
       " \twith 81900 stored elements in COOrdinate format>)"
      ]
     },
     "execution_count": 71,
     "metadata": {},
     "output_type": "execute_result"
    }
   ],
   "source": [
    "\n",
    "resolution = 2 # no multi mesh\n",
    "\n",
    "luse_multi_mesh = True\n",
    "# grid_flavour = 1 ; resolution = 2 # use H3 grid\n",
    "grid_flavour = 2 ; resolution = 5 #4 #5 #6 # uses trimesh\n",
    "\n",
    "NUM_H3_NEIGHBORS = 7 # this is only relevant if luse_multi_mesh=False\n",
    "\n",
    "if luse_multi_mesh:\n",
    "\n",
    "    from aifs.utils.graph_gen import multi_mesh1, multi_mesh2\n",
    "    import networkx as nx\n",
    "\n",
    "    # for developement / debugging\n",
    "    # import sys\n",
    "    # from importlib import reload\n",
    "    # multi_mesh1 = reload(sys.modules[\"aifs.utils.graph_gen\"]).multi_mesh1\n",
    "    # multi_mesh2 = reload(sys.modules[\"aifs.utils.graph_gen\"]).multi_mesh2\n",
    "\n",
    "    h3_resolutions = tuple([x for x in range(resolution+1)]) # resolution of h3 grids\n",
    "    resolution = \"_\".join([str(x) for x in h3_resolutions])\n",
    "\n",
    "    if grid_flavour == 1:\n",
    "        H3 = multi_mesh1(h3_resolutions, self_loop=False, flat=True, neighbour_children=False, depth=None)\n",
    "        # H3 = multi_mesh1(h3_resolutions, self_loop=False, flat=True, neighbour_children=True, depth=1)\n",
    "        h3_grid = [node for node in H3.nodes]\n",
    "        hcoords = np.array([h3.h3_to_geo(val) for val in h3_grid])\n",
    "        hcoords_sp = np.deg2rad(hcoords)\n",
    "    else:\n",
    "        H3, hcoords_sp = multi_mesh2(h3_resolutions)\n",
    "\n",
    "    print(H3.number_of_nodes(), H3.number_of_edges())\n",
    "\n",
    "    print(list(H3.nodes())[0:6])\n",
    "    print(list(H3.edges())[0:6])\n",
    "    print(H3.nodes[list(H3.nodes())[0]])\n",
    "    print(H3.edges[list(H3.edges())[0]])\n",
    "\n",
    "    hneigh = NearestNeighbors(  # this is used later for the era -> h and h -> era mapper\n",
    "        n_neighbors=NUM_H3_NEIGHBORS,\n",
    "        metric=\"haversine\",\n",
    "        n_jobs=4\n",
    "    )\n",
    "    hneigh.fit(hcoords_sp)\n",
    "\n",
    "    hadjmat = nx.to_scipy_sparse_array(H3, format='coo')\n",
    "\n",
    "else:\n",
    "\n",
    "    h3_grid = [h3.geo_to_h3(lat, lon, resolution) for lat, lon in ecoords]\n",
    "    h3_grid = sorted(set(h3_grid))\n",
    "    hcoords = np.array([h3.h3_to_geo(val) for val in h3_grid])\n",
    "    hcoords_sp = np.deg2rad(hcoords)\n",
    "    \n",
    "    hneigh = NearestNeighbors(\n",
    "        n_neighbors=NUM_H3_NEIGHBORS,\n",
    "        metric=\"haversine\",\n",
    "        n_jobs=4,\n",
    "    )\n",
    "    hneigh.fit(hcoords_sp)\n",
    "\n",
    "    hadjmat = hneigh.kneighbors_graph(hcoords_sp, NUM_H3_NEIGHBORS, mode=\"distance\").tocoo()\n",
    "\n",
    "print(\"-------------------\")\n",
    "hcoords_sp.shape, hadjmat"
   ]
  },
  {
   "cell_type": "code",
   "execution_count": 72,
   "id": "9c2ab11b",
   "metadata": {},
   "outputs": [
    {
     "data": {
      "text/plain": [
       "(0.03459826329235959, 1.107148885639973)"
      ]
     },
     "execution_count": 72,
     "metadata": {},
     "output_type": "execute_result"
    }
   ],
   "source": [
    "min_hidden_grid_dist, max_hidden_grid_dist = hadjmat.data.min(), hadjmat.data.max()\n",
    "min_hidden_grid_dist, max_hidden_grid_dist"
   ]
  },
  {
   "cell_type": "code",
   "execution_count": 73,
   "metadata": {},
   "outputs": [
    {
     "data": {
      "text/plain": [
       "<matplotlib.collections.PathCollection at 0x7f29c10e1b90>"
      ]
     },
     "execution_count": 73,
     "metadata": {},
     "output_type": "execute_result"
    },
    {
     "data": {
      "image/png": "[encoded data removed]",
      "text/plain": [
       "<Figure size 640x480 with 1 Axes>"
      ]
     },
     "metadata": {
      "image/png": {
       "height": 413,
       "width": 559
      }
     },
     "output_type": "display_data"
    }
   ],
   "source": [
    "slice1 = slice(0, 100)\n",
    "plt.scatter(hcoords_sp[...,1], hcoords_sp[..., 0], color='C0', alpha=0.001)\n",
    "plt.scatter(hcoords_sp[slice1,1], hcoords_sp[slice1, 0], color='C1', alpha=1)"
   ]
  },
  {
   "cell_type": "code",
   "execution_count": 74,
   "metadata": {},
   "outputs": [
    {
     "data": {
      "text/plain": [
       "<matplotlib.collections.PathCollection at 0x7f29c02c87d0>"
      ]
     },
     "execution_count": 74,
     "metadata": {},
     "output_type": "execute_result"
    },
    {
     "data": {
      "image/png": "[encoded data removed]",
      "text/plain": [
       "<Figure size 640x480 with 1 Axes>"
      ]
     },
     "metadata": {
      "image/png": {
       "height": 413,
       "width": 559
      }
     },
     "output_type": "display_data"
    }
   ],
   "source": [
    "slice1 = slice(0, 100)\n",
    "plt.scatter(ecoords_sp[...,1], ecoords_sp[..., 0], color='C0', alpha=0.001)\n",
    "plt.scatter(ecoords_sp[slice1,1], ecoords_sp[slice1, 0], color='C1', alpha=1)"
   ]
  },
  {
   "cell_type": "code",
   "execution_count": 75,
   "id": "79351644",
   "metadata": {},
   "outputs": [],
   "source": [
    "# Visualisation\n",
    "if luse_multi_mesh and False:\n",
    "    from aifs.utils.graph_gen import plot_graph_from_networkx\n",
    "    plot_graph_from_networkx('H Graph', H3)\n"
   ]
  },
  {
   "cell_type": "code",
   "execution_count": 76,
   "id": "lovely-guitar",
   "metadata": {},
   "outputs": [
    {
     "data": {
      "text/plain": [
       "<10242x10242 sparse array of type '<class 'numpy.float64'>'\n",
       "\twith 81900 stored elements in Compressed Sparse Row format>"
      ]
     },
     "execution_count": 76,
     "metadata": {},
     "output_type": "execute_result"
    }
   ],
   "source": [
    "hadjmat_norm = normalize(hadjmat, norm=\"l1\", axis=1)\n",
    "hadjmat_norm.data = 1.0 - hadjmat_norm.data\n",
    "hadjmat_norm"
   ]
  },
  {
   "cell_type": "code",
   "execution_count": 77,
   "id": "pregnant-helicopter",
   "metadata": {},
   "outputs": [],
   "source": [
    "h2h_key = (\"h\", \"to\", \"h\")\n",
    "\n",
    "h2h_gdata = {\n",
    "    # we should swap rows and cols here. It does not matter too much since the\n",
    "    # adjacency matrix is symmetric but better be consistent\n",
    "    \"edge_index\": torch.from_numpy(np.stack([hadjmat.col, hadjmat.row], axis=0).astype(np.int64)),\n",
    "    \"edge_attr\": torch.from_numpy(np.expand_dims(hadjmat_norm.data, axis=-1).astype(np.float32)),\n",
    "    \"hcoords_rad\": torch.from_numpy(hcoords_sp.astype(np.float32)),\n",
    "    \"info\": \"h3_to_h3 graph\",\n",
    "}"
   ]
  },
  {
   "cell_type": "code",
   "execution_count": 78,
   "id": "absolute-ecuador",
   "metadata": {},
   "outputs": [
    {
     "name": "stdout",
     "output_type": "stream",
     "text": [
      "using cut-off radius of 154.29787480493604\n"
     ]
    },
    {
     "data": {
      "text/plain": [
       "(<10242x131072 sparse matrix of type '<class 'numpy.float64'>'\n",
       " \twith 196320 stored elements in COOrdinate format>,\n",
       " <131072x10242 sparse matrix of type '<class 'numpy.float64'>'\n",
       " \twith 393216 stored elements in COOrdinate format>)"
      ]
     },
     "execution_count": 78,
     "metadata": {},
     "output_type": "execute_result"
    }
   ],
   "source": [
    "# compute mappings\n",
    "NUM_H_TO_ERA_NEIGHBORS = 3\n",
    "NUM_ERA_TO_H_NEIGHBORS = 12\n",
    "\n",
    "cutoff_encoder = True #False\n",
    "\n",
    "# ERA -> H3 aka the \"encoder\"\n",
    "if cutoff_encoder:\n",
    "    RADIUS_EARTH=6371\n",
    "    H_CUTOFF = RADIUS_EARTH*min_hidden_grid_dist*0.7 #160. #150. \n",
    "    print(f\"using cut-off radius of {H_CUTOFF}\")\n",
    "    RADIUS_H_TO_ERA=H_CUTOFF/RADIUS_EARTH\n",
    "\n",
    "    era_to_h3_adjmat = eneigh.radius_neighbors_graph(\n",
    "        hcoords_sp,\n",
    "        radius=RADIUS_H_TO_ERA,\n",
    "    ).tocoo()\n",
    "\n",
    "else:\n",
    "    era_to_h3_adjmat = eneigh.kneighbors_graph(\n",
    "        hcoords_sp,\n",
    "        n_neighbors=NUM_ERA_TO_H_NEIGHBORS,\n",
    "        mode=\"distance\",\n",
    "    ).tocoo()\n",
    "\n",
    "# H3 -> ERA aka the \"decoder\"\n",
    "h3_to_era_adjmat = hneigh.kneighbors_graph(\n",
    "    ecoords_sp,\n",
    "    n_neighbors=NUM_H_TO_ERA_NEIGHBORS,\n",
    "    mode=\"distance\",\n",
    ").tocoo()\n",
    "\n",
    "era_to_h3_adjmat, h3_to_era_adjmat"
   ]
  },
  {
   "cell_type": "code",
   "execution_count": 79,
   "id": "wooden-surname",
   "metadata": {},
   "outputs": [
    {
     "data": {
      "text/plain": [
       "(<10242x131072 sparse matrix of type '<class 'numpy.float64'>'\n",
       " \twith 196320 stored elements in Compressed Sparse Row format>,\n",
       " <131072x10242 sparse matrix of type '<class 'numpy.float64'>'\n",
       " \twith 393216 stored elements in Compressed Sparse Row format>)"
      ]
     },
     "execution_count": 79,
     "metadata": {},
     "output_type": "execute_result"
    }
   ],
   "source": [
    "h3_to_era_adjmat_norm = normalize(h3_to_era_adjmat, norm=\"l1\", axis=1)\n",
    "h3_to_era_adjmat_norm.data = 1.0 - h3_to_era_adjmat_norm.data\n",
    "\n",
    "era_to_h3_adjmat_norm = normalize(era_to_h3_adjmat, norm=\"l1\", axis=1)\n",
    "era_to_h3_adjmat_norm.data = 1.0 - era_to_h3_adjmat_norm.data\n",
    "\n",
    "era_to_h3_adjmat_norm, h3_to_era_adjmat_norm"
   ]
  },
  {
   "cell_type": "code",
   "execution_count": 80,
   "id": "d88957ee",
   "metadata": {},
   "outputs": [
    {
     "name": "stdout",
     "output_type": "stream",
     "text": [
      "era to h has isolated nodes: False\n",
      "h to era has isolated nodes: False\n",
      "h to h has isolated nodes: False\n"
     ]
    }
   ],
   "source": [
    "era_h_has_isolated = torch_geometric.utils.contains_isolated_nodes(torch_geometric.utils.from_scipy_sparse_matrix(era_to_h3_adjmat_norm)[0])\n",
    "h_era_has_isolated = torch_geometric.utils.contains_isolated_nodes(torch_geometric.utils.from_scipy_sparse_matrix(h3_to_era_adjmat_norm)[0])\n",
    "h_h_has_isolated = torch_geometric.utils.contains_isolated_nodes(torch_geometric.utils.from_scipy_sparse_matrix(hadjmat_norm)[0])\n",
    "\n",
    "print(f\"era to h has isolated nodes: {era_h_has_isolated}\")\n",
    "print(f\"h to era has isolated nodes: {h_era_has_isolated}\")\n",
    "print(f\"h to h has isolated nodes: {h_h_has_isolated}\")\n",
    "\n",
    "assert era_h_has_isolated == False and h_era_has_isolated == False and h_h_has_isolated == False"
   ]
  },
  {
   "cell_type": "code",
   "execution_count": 81,
   "id": "refined-dividend",
   "metadata": {},
   "outputs": [],
   "source": [
    "h2e_key = (\"h\", \"to\", \"era\")\n",
    "\n",
    "h2e_gdata = {\n",
    "    # we should swap rows and cols here. It does not matter too much since the\n",
    "    # adjacency matrix is symmetric but better be consistent\n",
    "    \"edge_index\": torch.from_numpy(np.stack([h3_to_era_adjmat.col, h3_to_era_adjmat.row], axis=0).astype(np.int64)),\n",
    "    \"edge_attr\": torch.from_numpy(np.expand_dims(h3_to_era_adjmat_norm.data, axis=-1).astype(np.float32)),\n",
    "    \"hcoords_rad\": torch.from_numpy(hcoords_sp.astype(np.float32)),\n",
    "    \"ecoords_rad\": torch.from_numpy(ecoords_sp.astype(np.float32)),\n",
    "    \"info\": \"h3_to_era graph\",\n",
    "}"
   ]
  },
  {
   "cell_type": "code",
   "execution_count": 82,
   "id": "breeding-superintendent",
   "metadata": {},
   "outputs": [],
   "source": [
    "e2h_key = (\"era\", \"to\", \"h\")\n",
    "\n",
    "e2h_gdata = {\n",
    "    # we should swap rows and cols here. It does not matter too much since the\n",
    "    # adjacency matrix is symmetric but better be consistent\n",
    "    \"edge_index\": torch.from_numpy(np.stack([era_to_h3_adjmat.col, era_to_h3_adjmat.row], axis=0).astype(np.int64)),\n",
    "    \"edge_attr\": torch.from_numpy(np.expand_dims(era_to_h3_adjmat_norm.data, axis=-1).astype(np.float32)),\n",
    "    \"hcoords_rad\": torch.from_numpy(hcoords_sp.astype(np.float32)),\n",
    "    \"ecoords_rad\": torch.from_numpy(ecoords_sp.astype(np.float32)),\n",
    "    \"info\": \"era_to_h3 graph\",\n",
    "}"
   ]
  },
  {
   "cell_type": "code",
   "execution_count": 83,
   "id": "tight-association",
   "metadata": {},
   "outputs": [],
   "source": [
    "graphs_normed = HeteroData(\n",
    "    {\n",
    "       era2era_key : era2era_gdata,\n",
    "       h2h_key: h2h_gdata,\n",
    "       e2h_key : e2h_gdata,\n",
    "       h2e_key : h2e_gdata,\n",
    "    }\n",
    ")"
   ]
  },
  {
   "attachments": {},
   "cell_type": "markdown",
   "id": "continued-vertex",
   "metadata": {},
   "source": [
    "# Add directionality attribute"
   ]
  },
  {
   "cell_type": "code",
   "execution_count": 84,
   "id": "9c3bf361",
   "metadata": {},
   "outputs": [],
   "source": [
    "from aifs.utils.graph_gen import directional_edge_features, directional_edge_features_rotated\n",
    "\n",
    "luse_rotated_edge_features = True\n",
    "\n",
    "if luse_rotated_edge_features:\n",
    "    edge_directions_func = directional_edge_features_rotated # relative to target node rotated to north pole\n",
    "else:\n",
    "    edge_directions_func = directional_edge_features # loc target node - loc source node\n"
   ]
  },
  {
   "cell_type": "code",
   "execution_count": 85,
   "id": "directed-independence",
   "metadata": {},
   "outputs": [],
   "source": [
    "hhedge_dirs = []\n",
    "for n in range(graphs_normed[(\"h\", \"to\", \"h\")]['edge_index'].shape[1]):\n",
    "    i,j = graphs_normed[(\"h\", \"to\", \"h\")]['edge_index'][:,n]\n",
    "    ic = graphs_normed[(\"h\", \"to\", \"h\")]['hcoords_rad'][i,:]\n",
    "    jc = graphs_normed[(\"h\", \"to\", \"h\")]['hcoords_rad'][j,:]\n",
    "    hhedge_dirs.append(edge_directions_func(ic, jc))\n",
    "hhedge_dirs = torch.from_numpy(np.stack(hhedge_dirs).astype(np.float32))\n",
    "hhedge_attr = torch.concat([graphs_normed[(\"h\", \"to\", \"h\")]['edge_attr'],hhedge_dirs],axis=-1)"
   ]
  },
  {
   "cell_type": "code",
   "execution_count": 86,
   "id": "rotary-hazard",
   "metadata": {},
   "outputs": [],
   "source": [
    "ehedge_dirs = []\n",
    "for n in range(graphs_normed[(\"era\", \"to\", \"h\")]['edge_index'].shape[1]):\n",
    "    i,j = graphs_normed[(\"era\", \"to\", \"h\")]['edge_index'][:,n]\n",
    "    ic = graphs_normed[(\"era\", \"to\", \"h\")]['ecoords_rad'][i,:]\n",
    "    jc = graphs_normed[(\"era\", \"to\", \"h\")]['hcoords_rad'][j,:]\n",
    "    ehedge_dirs.append(edge_directions_func(ic, jc))\n",
    "ehedge_dirs = torch.from_numpy(np.stack(ehedge_dirs).astype(np.float32))\n",
    "ehedge_attr = torch.concat([graphs_normed[(\"era\", \"to\", \"h\")]['edge_attr'],ehedge_dirs],axis=-1)"
   ]
  },
  {
   "cell_type": "code",
   "execution_count": 87,
   "id": "prescribed-square",
   "metadata": {},
   "outputs": [],
   "source": [
    "heedge_dirs = []\n",
    "for n in range(graphs_normed[(\"h\", \"to\", \"era\")]['edge_index'].shape[1]):\n",
    "    i,j = graphs_normed[(\"h\", \"to\", \"era\")]['edge_index'][:,n]\n",
    "    ic = graphs_normed[(\"h\", \"to\", \"era\")]['hcoords_rad'][i,:]\n",
    "    jc = graphs_normed[(\"h\", \"to\", \"era\")]['ecoords_rad'][j,:]\n",
    "    heedge_dirs.append(edge_directions_func(ic, jc))\n",
    "heedge_dirs = torch.from_numpy(np.stack(heedge_dirs).astype(np.float32))\n",
    "heedge_attr = torch.concat([graphs_normed[(\"h\", \"to\", \"era\")]['edge_attr'],heedge_dirs],axis=-1)"
   ]
  },
  {
   "cell_type": "code",
   "execution_count": 88,
   "id": "material-brief",
   "metadata": {},
   "outputs": [],
   "source": [
    "eeedge_dirs = []\n",
    "for n in range(graphs_normed[(\"era\", \"to\", \"era\")]['edge_index'].shape[1]):\n",
    "    i,j = graphs_normed[(\"era\", \"to\", \"era\")]['edge_index'][:,n]\n",
    "    ic = graphs_normed[(\"era\", \"to\", \"era\")]['ecoords_rad'][i,:]\n",
    "    jc = graphs_normed[(\"era\", \"to\", \"era\")]['ecoords_rad'][j,:]\n",
    "    eeedge_dirs.append(edge_directions_func(ic, jc))\n",
    "eeedge_dirs = torch.from_numpy(np.stack(eeedge_dirs).astype(np.float32))\n",
    "eeedge_attr = torch.concat([graphs_normed[(\"era\", \"to\", \"era\")]['edge_attr'],eeedge_dirs],axis=-1)"
   ]
  },
  {
   "cell_type": "code",
   "execution_count": 89,
   "id": "baking-writer",
   "metadata": {},
   "outputs": [],
   "source": [
    "graphs_normed[(\"h\", \"to\", \"era\")]['edge_attr'] = heedge_attr\n",
    "graphs_normed[(\"h\", \"to\", \"h\")]['edge_attr'] = hhedge_attr\n",
    "graphs_normed[(\"era\", \"to\", \"h\")]['edge_attr'] = ehedge_attr\n",
    "graphs_normed[(\"era\", \"to\", \"era\")]['edge_attr'] = eeedge_attr"
   ]
  },
  {
   "cell_type": "code",
   "execution_count": null,
   "metadata": {},
   "outputs": [],
   "source": []
  },
  {
   "attachments": {},
   "cell_type": "markdown",
   "id": "731551a9",
   "metadata": {},
   "source": [
    "# Plot Graphs"
   ]
  },
  {
   "cell_type": "code",
   "execution_count": 90,
   "id": "a56229bb",
   "metadata": {},
   "outputs": [],
   "source": [
    "# plot graphs\n",
    "lplot_graphs = False\n",
    "\n",
    "from aifs.utils.graph_gen import plot_graph_from_graphdata, plot_bipartite_from_graphdata\n",
    "\n",
    "if lplot_graphs:\n",
    "    plot_graph_from_graphdata(\"H Graph\", graphs_normed[(\"h\", \"to\", \"h\")], 'hcoords_rad')\n",
    "\n",
    "    # n_h3_nodes0 = 122\n",
    "    # n_h3_nodes1 = 842\n",
    "    # print(sorted(node_adjacencies, reverse=True)[0:n_h3_nodes0])\n",
    "    # print(sorted(node_adjacencies, reverse=True)[n_h3_nodes0:n_h3_nodes0+n_h3_nodes1])\n",
    "    # print(sorted(node_adjacencies, reverse=True)[n_h3_nodes0+n_h3_nodes1:n_h3_nodes0+n_h3_nodes1+100])"
   ]
  },
  {
   "cell_type": "code",
   "execution_count": 91,
   "id": "a89df9bf",
   "metadata": {},
   "outputs": [],
   "source": [
    "\n",
    "\n",
    "if lplot_graphs:\n",
    "    plot_bipartite_from_graphdata(\"ERA to H Graph\", \"blue\", graphs_normed[(\"era\", \"to\", \"h\")], ('ecoords_rad', 'hcoords_rad'), graphs_normed[(\"era\", \"to\", \"h\")]['ecoords_rad'], graphs_normed[(\"era\", \"to\", \"h\")]['hcoords_rad'])\n"
   ]
  },
  {
   "cell_type": "code",
   "execution_count": 92,
   "id": "189b72b7",
   "metadata": {},
   "outputs": [],
   "source": [
    "if lplot_graphs:\n",
    "    plot_bipartite_from_graphdata(\"H to ERA Graph\", \"red\", graphs_normed[(\"h\", \"to\", \"era\")], ('hcoords_rad', 'ecoords_rad'), graphs_normed[(\"h\", \"to\", \"era\")]['ecoords_rad'], graphs_normed[(\"h\", \"to\", \"era\")]['hcoords_rad'])  "
   ]
  },
  {
   "cell_type": "code",
   "execution_count": 93,
   "id": "frank-reality",
   "metadata": {},
   "outputs": [
    {
     "data": {
      "text/plain": [
       "torch.Size([196320, 3])"
      ]
     },
     "execution_count": 93,
     "metadata": {},
     "output_type": "execute_result"
    }
   ],
   "source": [
    "graphs_normed[(\"era\", \"to\", \"h\")]['edge_attr'].shape"
   ]
  },
  {
   "attachments": {},
   "cell_type": "markdown",
   "id": "f314730a",
   "metadata": {},
   "source": [
    "# Save Graphs"
   ]
  },
  {
   "cell_type": "code",
   "execution_count": 94,
   "id": "aba1b616",
   "metadata": {},
   "outputs": [],
   "source": [
    "# from datetime import datetime\n",
    "# timestamp = datetime.now().strftime('%Y%m%d%H%M%S')\n",
    "# timestamp"
   ]
  },
  {
   "cell_type": "code",
   "execution_count": 95,
   "id": "suited-foundation",
   "metadata": {},
   "outputs": [],
   "source": [
    "output_dir = \"../../graphs\"\n",
    "torch.save(graphs_normed, os.path.join(output_dir, f\"graph.pt\"))"
   ]
  },
  {
   "cell_type": "code",
   "execution_count": 96,
   "id": "regulated-miller",
   "metadata": {},
   "outputs": [
    {
     "data": {
      "text/plain": [
       "'/home/sophiebuurman/data1/demo_repo/notebooks'"
      ]
     },
     "execution_count": 96,
     "metadata": {},
     "output_type": "execute_result"
    }
   ],
   "source": [
    "# !ls -lt $HPCPERM/gnn/new_graphs\n",
    "os.getcwd()"
   ]
  }
 ],
 "metadata": {
  "kernelspec": {
   "display_name": "base",
   "language": "python",
   "name": "python3"
  },
  "language_info": {
   "codemirror_mode": {
    "name": "ipython",
    "version": 3
   },
   "file_extension": ".py",
   "mimetype": "text/x-python",
   "name": "python",
   "nbconvert_exporter": "python",
   "pygments_lexer": "ipython3",
   "version": "3.11.5"
  }
 },
 "nbformat": 4,
 "nbformat_minor": 5
}
