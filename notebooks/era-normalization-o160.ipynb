{
    "cells": [
        {
            "cell_type": "code",
            "execution_count": 1,
            "id": "extraordinary-sierra",
            "metadata": {},
            "outputs": [],
            "source": [
                "import os\n",
                "\n",
                "import zarr\n",
                "import numpy as np"
            ]
        },
        {
            "cell_type": "code",
            "execution_count": 2,
            "id": "cf374620-cd92-401c-adc8-0cd14f8493e4",
            "metadata": {},
            "outputs": [
                {
                    "data": {
                        "text/plain": [
                            "<dask.config.set at 0x146c87d193a0>"
                        ]
                    },
                    "execution_count": 2,
                    "metadata": {},
                    "output_type": "execute_result"
                }
            ],
            "source": [
                "import dask\n",
                "\n",
                "dask.config.set({\"temporary-directory\": \"/ec/res4/scratch/syma/dask-tmp\"})\n",
                "dask.config.set({\"local-directory\": \"/ec/res4/scratch/syma/dask-tmp\"})"
            ]
        },
        {
            "cell_type": "code",
            "execution_count": 3,
            "id": "900f5ca8-7a58-4c2b-9c23-f77e9f169e67",
            "metadata": {},
            "outputs": [],
            "source": [
                "import ctypes\n",
                "\n",
                "def trim_memory() -> int:\n",
                "    libc = ctypes.CDLL(\"libc.so.6\")\n",
                "    return libc.malloc_trim(0)"
            ]
        },
        {
            "cell_type": "code",
            "execution_count": 4,
            "id": "fixed-stock",
            "metadata": {},
            "outputs": [
                {
                    "name": "stderr",
                    "output_type": "stream",
                    "text": [
                        "2023-03-20 14:17:37,323 - distributed.diskutils - INFO - Found stale lock file and directory '/ec/res4/scratch/syma/dask-tmp/dask-worker-space/worker-76qikyfn', purging\n",
                        "2023-03-20 14:17:37,329 - distributed.diskutils - INFO - Found stale lock file and directory '/ec/res4/scratch/syma/dask-tmp/dask-worker-space/worker-6c5v1_zc', purging\n",
                        "2023-03-20 14:17:37,335 - distributed.diskutils - INFO - Found stale lock file and directory '/ec/res4/scratch/syma/dask-tmp/dask-worker-space/worker-8uq9zepc', purging\n",
                        "2023-03-20 14:17:37,339 - distributed.diskutils - INFO - Found stale lock file and directory '/ec/res4/scratch/syma/dask-tmp/dask-worker-space/worker-tuigfadk', purging\n",
                        "2023-03-20 14:17:37,344 - distributed.diskutils - INFO - Found stale lock file and directory '/ec/res4/scratch/syma/dask-tmp/dask-worker-space/worker-vb3e9ugj', purging\n",
                        "2023-03-20 14:17:37,348 - distributed.diskutils - INFO - Found stale lock file and directory '/ec/res4/scratch/syma/dask-tmp/dask-worker-space/worker-ywn0e0yl', purging\n",
                        "2023-03-20 14:17:37,353 - distributed.diskutils - INFO - Found stale lock file and directory '/ec/res4/scratch/syma/dask-tmp/dask-worker-space/worker-_b9lsy0c', purging\n",
                        "2023-03-20 14:17:37,358 - distributed.diskutils - INFO - Found stale lock file and directory '/ec/res4/scratch/syma/dask-tmp/dask-worker-space/worker-lbvkmnso', purging\n",
                        "2023-03-20 14:17:37,362 - distributed.diskutils - INFO - Found stale lock file and directory '/ec/res4/scratch/syma/dask-tmp/dask-worker-space/worker-_5bzk3bs', purging\n",
                        "2023-03-20 14:17:37,367 - distributed.diskutils - INFO - Found stale lock file and directory '/ec/res4/scratch/syma/dask-tmp/dask-worker-space/worker-ga5aikt4', purging\n",
                        "2023-03-20 14:17:37,372 - distributed.diskutils - INFO - Found stale lock file and directory '/ec/res4/scratch/syma/dask-tmp/dask-worker-space/worker-cjuui3fk', purging\n",
                        "2023-03-20 14:17:37,376 - distributed.diskutils - INFO - Found stale lock file and directory '/ec/res4/scratch/syma/dask-tmp/dask-worker-space/worker-da1n_r35', purging\n",
                        "2023-03-20 14:17:37,381 - distributed.diskutils - INFO - Found stale lock file and directory '/ec/res4/scratch/syma/dask-tmp/dask-worker-space/worker-wwhe9v0f', purging\n",
                        "2023-03-20 14:17:37,386 - distributed.diskutils - INFO - Found stale lock file and directory '/ec/res4/scratch/syma/dask-tmp/dask-worker-space/worker-xhfn6blc', purging\n",
                        "2023-03-20 14:17:37,391 - distributed.diskutils - INFO - Found stale lock file and directory '/ec/res4/scratch/syma/dask-tmp/dask-worker-space/worker-smsdhnsz', purging\n",
                        "2023-03-20 14:17:37,395 - distributed.diskutils - INFO - Found stale lock file and directory '/ec/res4/scratch/syma/dask-tmp/dask-worker-space/worker-po39nc7b', purging\n",
                        "2023-03-20 14:17:37,400 - distributed.diskutils - INFO - Found stale lock file and directory '/ec/res4/scratch/syma/dask-tmp/dask-worker-space/worker-wdwiyp7u', purging\n",
                        "2023-03-20 14:17:37,405 - distributed.diskutils - INFO - Found stale lock file and directory '/ec/res4/scratch/syma/dask-tmp/dask-worker-space/worker-5889g6qf', purging\n",
                        "2023-03-20 14:17:37,409 - distributed.diskutils - INFO - Found stale lock file and directory '/ec/res4/scratch/syma/dask-tmp/dask-worker-space/worker-vz84n309', purging\n",
                        "2023-03-20 14:17:37,414 - distributed.diskutils - INFO - Found stale lock file and directory '/ec/res4/scratch/syma/dask-tmp/dask-worker-space/worker-gs7lwmu4', purging\n",
                        "2023-03-20 14:17:37,418 - distributed.diskutils - INFO - Found stale lock file and directory '/ec/res4/scratch/syma/dask-tmp/dask-worker-space/worker-cxtf8gay', purging\n",
                        "2023-03-20 14:17:37,422 - distributed.diskutils - INFO - Found stale lock file and directory '/ec/res4/scratch/syma/dask-tmp/dask-worker-space/worker-bf_avd7h', purging\n",
                        "2023-03-20 14:17:37,427 - distributed.diskutils - INFO - Found stale lock file and directory '/ec/res4/scratch/syma/dask-tmp/dask-worker-space/worker-wz7y43my', purging\n",
                        "2023-03-20 14:17:37,431 - distributed.diskutils - INFO - Found stale lock file and directory '/ec/res4/scratch/syma/dask-tmp/dask-worker-space/worker-x9xsr884', purging\n"
                    ]
                }
            ],
            "source": [
                "from dask.distributed import Client, LocalCluster\n",
                "\n",
                "cluster = LocalCluster(n_workers=8, threads_per_worker=4)\n",
                "client = Client(cluster)\n",
                "_ = client.run(trim_memory)\n",
                "# client.scheduler_info()"
            ]
        },
        {
            "cell_type": "code",
            "execution_count": 5,
            "id": "still-dance",
            "metadata": {},
            "outputs": [],
            "source": [
                "from aifs.utils.config import YAMLConfig\n",
                "\n",
                "config = YAMLConfig(\"/home/syma/dask/codes/aifs/aifs/config/era_config_atos.yaml\")"
            ]
        },
        {
            "cell_type": "code",
            "execution_count": 6,
            "id": "7b3032d1-626b-488a-8c57-40d32db0011a",
            "metadata": {},
            "outputs": [],
            "source": [
                "def get_data_filename(type: str, config: YAMLConfig) -> str:\n",
                "    # type == [pl | sfc]\n",
                "    return os.path.join(\n",
                "            config[f\"input:{type}:training:basedir\"].format(resolution=config[\"input:resolution\"]),\n",
                "            config[f\"input:{type}:training:filename\"].format(resolution=config[\"input:resolution\"]),\n",
                "    )"
            ]
        },
        {
            "cell_type": "code",
            "execution_count": null,
            "id": "87ff0b30-6076-49c2-bdab-561a67efcebf",
            "metadata": {},
            "outputs": [],
            "source": [
                "fname = get_data_filename(\"pl\", config)\n",
                "fname"
            ]
        },
        {
            "cell_type": "code",
            "execution_count": null,
            "id": "0618d9ca-2f4c-4fd3-85dd-55897667f489",
            "metadata": {},
            "outputs": [],
            "source": [
                "import dask.array\n",
                "\n",
                "ds_wb = dask.array.from_zarr(fname)\n",
                "display(ds_wb)"
            ]
        },
        {
            "cell_type": "code",
            "execution_count": null,
            "id": "c89e1af5-db24-429d-ab69-4269e73bd6d5",
            "metadata": {},
            "outputs": [],
            "source": [
                "# leave the var and plev dimensions (1, 2) untouched\n",
                "var_means = ds_wb.mean(axis=(0, -1), keepdims=True).compute()\n",
                "var_sds = (ds_wb.var(axis=0, keepdims=True).mean(axis=-1, keepdims=True).compute()) ** (1.0 / 2.0)"
            ]
        },
        {
            "cell_type": "code",
            "execution_count": null,
            "id": "85106edc-fd6c-428c-b909-c2dcb577cebb",
            "metadata": {
                "tags": []
            },
            "outputs": [],
            "source": [
                "var_means, var_sds"
            ]
        },
        {
            "cell_type": "code",
            "execution_count": null,
            "id": "ef3537cd-5ec4-48fd-a69d-07c80ba5c32b",
            "metadata": {},
            "outputs": [],
            "source": [
                "var_means.shape"
            ]
        },
        {
            "cell_type": "code",
            "execution_count": null,
            "id": "261a2545-1c02-49ee-ba59-b0c3a1f46fdf",
            "metadata": {},
            "outputs": [],
            "source": [
                "var_sds.shape"
            ]
        },
        {
            "cell_type": "code",
            "execution_count": null,
            "id": "36bfe589-a519-4bb6-82ea-b45a5267edd7",
            "metadata": {},
            "outputs": [],
            "source": [
                "var_sds[:, -1, ...]"
            ]
        },
        {
            "cell_type": "code",
            "execution_count": null,
            "id": "c14e9b40-da0b-4c7d-b5c8-21ecdd1792c3",
            "metadata": {},
            "outputs": [],
            "source": [
                "resolution = \"o160\"\n",
                "var_means_file = f\"/ec/res4/scratch/syma/era5/{resolution}/zarr/statistics/pl_1979_2016_mu.npy\"\n",
                "var_sds_file = f\"/ec/res4/scratch/syma/era5/{resolution}/zarr/statistics/pl_1979_2016_sd.npy\""
            ]
        },
        {
            "cell_type": "code",
            "execution_count": null,
            "id": "f00d595f-c5f8-4423-be89-92243cd980e4",
            "metadata": {},
            "outputs": [],
            "source": [
                "np.save(var_means_file, var_means, allow_pickle=False)\n",
                "np.save(var_sds_file, var_sds, allow_pickle=False)"
            ]
        },
        {
            "cell_type": "code",
            "execution_count": null,
            "id": "ea1234d7-1471-4524-95d0-5e4e8f9df30a",
            "metadata": {},
            "outputs": [],
            "source": [
                "!ls -l /ec/res4/scratch/syma/era5/o160/zarr/statistics/"
            ]
        },
        {
            "cell_type": "code",
            "execution_count": 7,
            "id": "3a1ad5e3-4870-4c7d-945c-055199d5edcb",
            "metadata": {},
            "outputs": [
                {
                    "data": {
                        "text/plain": [
                            "'/ec/res4/scratch/syma/era5/o160/zarr/sfc/era5_o160_blh_lsm_msl_z_sfc_training.zarr'"
                        ]
                    },
                    "execution_count": 7,
                    "metadata": {},
                    "output_type": "execute_result"
                }
            ],
            "source": [
                "fname = get_data_filename(\"sfc\", config)\n",
                "fname"
            ]
        },
        {
            "cell_type": "code",
            "execution_count": 9,
            "id": "a5b6c33f-ce1c-4d28-84fa-f43068f1d5c3",
            "metadata": {},
            "outputs": [
                {
                    "data": {
                        "text/html": [
                            "<table>\n",
                            "    <tr>\n",
                            "        <td>\n",
                            "            <table>\n",
                            "                <thead>\n",
                            "                    <tr>\n",
                            "                        <td> </td>\n",
                            "                        <th> Array </th>\n",
                            "                        <th> Chunk </th>\n",
                            "                    </tr>\n",
                            "                </thead>\n",
                            "                <tbody>\n",
                            "                    \n",
                            "                    <tr>\n",
                            "                        <th> Bytes </th>\n",
                            "                        <td> 87.12 GiB </td>\n",
                            "                        <td> 1.65 MiB </td>\n",
                            "                    </tr>\n",
                            "                    \n",
                            "                    <tr>\n",
                            "                        <th> Shape </th>\n",
                            "                        <td> (54056, 4, 108160) </td>\n",
                            "                        <td> (1, 4, 108160) </td>\n",
                            "                    </tr>\n",
                            "                    <tr>\n",
                            "                        <th> Count </th>\n",
                            "                        <td> 2 Graph Layers </td>\n",
                            "                        <td> 54056 Chunks </td>\n",
                            "                    </tr>\n",
                            "                    <tr>\n",
                            "                    <th> Type </th>\n",
                            "                    <td> float32 </td>\n",
                            "                    <td> numpy.ndarray </td>\n",
                            "                    </tr>\n",
                            "                </tbody>\n",
                            "            </table>\n",
                            "        </td>\n",
                            "        <td>\n",
                            "        <svg width=\"215\" height=\"110\" style=\"stroke:rgb(0,0,0);stroke-width:1\" >\n",
                            "\n",
                            "  <!-- Horizontal lines -->\n",
                            "  <line x1=\"10\" y1=\"0\" x2=\"45\" y2=\"35\" style=\"stroke-width:2\" />\n",
                            "  <line x1=\"10\" y1=\"25\" x2=\"45\" y2=\"60\" style=\"stroke-width:2\" />\n",
                            "\n",
                            "  <!-- Vertical lines -->\n",
                            "  <line x1=\"10\" y1=\"0\" x2=\"10\" y2=\"25\" style=\"stroke-width:2\" />\n",
                            "  <line x1=\"11\" y1=\"1\" x2=\"11\" y2=\"27\" />\n",
                            "  <line x1=\"13\" y1=\"3\" x2=\"13\" y2=\"29\" />\n",
                            "  <line x1=\"15\" y1=\"5\" x2=\"15\" y2=\"30\" />\n",
                            "  <line x1=\"17\" y1=\"7\" x2=\"17\" y2=\"32\" />\n",
                            "  <line x1=\"19\" y1=\"9\" x2=\"19\" y2=\"34\" />\n",
                            "  <line x1=\"21\" y1=\"11\" x2=\"21\" y2=\"36\" />\n",
                            "  <line x1=\"22\" y1=\"12\" x2=\"22\" y2=\"38\" />\n",
                            "  <line x1=\"24\" y1=\"14\" x2=\"24\" y2=\"40\" />\n",
                            "  <line x1=\"26\" y1=\"16\" x2=\"26\" y2=\"42\" />\n",
                            "  <line x1=\"28\" y1=\"18\" x2=\"28\" y2=\"43\" />\n",
                            "  <line x1=\"30\" y1=\"20\" x2=\"30\" y2=\"45\" />\n",
                            "  <line x1=\"32\" y1=\"22\" x2=\"32\" y2=\"47\" />\n",
                            "  <line x1=\"34\" y1=\"24\" x2=\"34\" y2=\"49\" />\n",
                            "  <line x1=\"35\" y1=\"25\" x2=\"35\" y2=\"51\" />\n",
                            "  <line x1=\"37\" y1=\"27\" x2=\"37\" y2=\"53\" />\n",
                            "  <line x1=\"39\" y1=\"29\" x2=\"39\" y2=\"55\" />\n",
                            "  <line x1=\"41\" y1=\"31\" x2=\"41\" y2=\"56\" />\n",
                            "  <line x1=\"43\" y1=\"33\" x2=\"43\" y2=\"58\" />\n",
                            "  <line x1=\"45\" y1=\"35\" x2=\"45\" y2=\"60\" style=\"stroke-width:2\" />\n",
                            "\n",
                            "  <!-- Colored Rectangle -->\n",
                            "  <polygon points=\"10.0,0.0 45.278454577097115,35.278454577097115 45.278454577097115,60.6910710916796 10.0,25.412616514582485\" style=\"fill:#8B4903A0;stroke-width:0\"/>\n",
                            "\n",
                            "  <!-- Horizontal lines -->\n",
                            "  <line x1=\"10\" y1=\"0\" x2=\"130\" y2=\"0\" style=\"stroke-width:2\" />\n",
                            "  <line x1=\"11\" y1=\"1\" x2=\"131\" y2=\"1\" />\n",
                            "  <line x1=\"13\" y1=\"3\" x2=\"133\" y2=\"3\" />\n",
                            "  <line x1=\"15\" y1=\"5\" x2=\"135\" y2=\"5\" />\n",
                            "  <line x1=\"17\" y1=\"7\" x2=\"137\" y2=\"7\" />\n",
                            "  <line x1=\"19\" y1=\"9\" x2=\"139\" y2=\"9\" />\n",
                            "  <line x1=\"21\" y1=\"11\" x2=\"141\" y2=\"11\" />\n",
                            "  <line x1=\"22\" y1=\"12\" x2=\"142\" y2=\"12\" />\n",
                            "  <line x1=\"24\" y1=\"14\" x2=\"144\" y2=\"14\" />\n",
                            "  <line x1=\"26\" y1=\"16\" x2=\"146\" y2=\"16\" />\n",
                            "  <line x1=\"28\" y1=\"18\" x2=\"148\" y2=\"18\" />\n",
                            "  <line x1=\"30\" y1=\"20\" x2=\"150\" y2=\"20\" />\n",
                            "  <line x1=\"32\" y1=\"22\" x2=\"152\" y2=\"22\" />\n",
                            "  <line x1=\"34\" y1=\"24\" x2=\"154\" y2=\"24\" />\n",
                            "  <line x1=\"35\" y1=\"25\" x2=\"155\" y2=\"25\" />\n",
                            "  <line x1=\"37\" y1=\"27\" x2=\"157\" y2=\"27\" />\n",
                            "  <line x1=\"39\" y1=\"29\" x2=\"159\" y2=\"29\" />\n",
                            "  <line x1=\"41\" y1=\"31\" x2=\"161\" y2=\"31\" />\n",
                            "  <line x1=\"43\" y1=\"33\" x2=\"163\" y2=\"33\" />\n",
                            "  <line x1=\"45\" y1=\"35\" x2=\"165\" y2=\"35\" style=\"stroke-width:2\" />\n",
                            "\n",
                            "  <!-- Vertical lines -->\n",
                            "  <line x1=\"10\" y1=\"0\" x2=\"45\" y2=\"35\" style=\"stroke-width:2\" />\n",
                            "  <line x1=\"130\" y1=\"0\" x2=\"165\" y2=\"35\" style=\"stroke-width:2\" />\n",
                            "\n",
                            "  <!-- Colored Rectangle -->\n",
                            "  <polygon points=\"10.0,0.0 130.0,0.0 165.2784545770971,35.278454577097115 45.278454577097115,35.278454577097115\" style=\"fill:#8B4903A0;stroke-width:0\"/>\n",
                            "\n",
                            "  <!-- Horizontal lines -->\n",
                            "  <line x1=\"45\" y1=\"35\" x2=\"165\" y2=\"35\" style=\"stroke-width:2\" />\n",
                            "  <line x1=\"45\" y1=\"60\" x2=\"165\" y2=\"60\" style=\"stroke-width:2\" />\n",
                            "\n",
                            "  <!-- Vertical lines -->\n",
                            "  <line x1=\"45\" y1=\"35\" x2=\"45\" y2=\"60\" style=\"stroke-width:2\" />\n",
                            "  <line x1=\"165\" y1=\"35\" x2=\"165\" y2=\"60\" style=\"stroke-width:2\" />\n",
                            "\n",
                            "  <!-- Colored Rectangle -->\n",
                            "  <polygon points=\"45.278454577097115,35.278454577097115 165.2784545770971,35.278454577097115 165.2784545770971,60.6910710916796 45.278454577097115,60.6910710916796\" style=\"fill:#ECB172A0;stroke-width:0\"/>\n",
                            "\n",
                            "  <!-- Text -->\n",
                            "  <text x=\"105.278455\" y=\"80.691071\" font-size=\"1.0rem\" font-weight=\"100\" text-anchor=\"middle\" >108160</text>\n",
                            "  <text x=\"185.278455\" y=\"47.984763\" font-size=\"1.0rem\" font-weight=\"100\" text-anchor=\"middle\" transform=\"rotate(0,185.278455,47.984763)\">4</text>\n",
                            "  <text x=\"17.639227\" y=\"63.051844\" font-size=\"1.0rem\" font-weight=\"100\" text-anchor=\"middle\" transform=\"rotate(45,17.639227,63.051844)\">54056</text>\n",
                            "</svg>\n",
                            "        </td>\n",
                            "    </tr>\n",
                            "</table>"
                        ],
                        "text/plain": [
                            "dask.array<from-zarr, shape=(54056, 4, 108160), dtype=float32, chunksize=(1, 4, 108160), chunktype=numpy.ndarray>"
                        ]
                    },
                    "metadata": {},
                    "output_type": "display_data"
                }
            ],
            "source": [
                "import dask.array\n",
                "\n",
                "ds_sfc =  dask.array.from_zarr(fname)\n",
                "display(ds_sfc)"
            ]
        },
        {
            "cell_type": "code",
            "execution_count": 10,
            "id": "d2c8e688-ad78-46be-af87-ba49526a365c",
            "metadata": {},
            "outputs": [],
            "source": [
                "# leave the var dimension (1) untouched\n",
                "var_sfc_means = ds_sfc.mean(axis=(0, 2), keepdims=True).compute()\n",
                "var_sfc_sds = (ds_sfc.var(axis=0, keepdims=True).mean(axis=2, keepdims=True).compute()) ** (1.0 / 2.0)"
            ]
        },
        {
            "cell_type": "code",
            "execution_count": 11,
            "id": "9fc85a75-8f57-4529-80a3-18078b49d626",
            "metadata": {},
            "outputs": [],
            "source": [
                "var_sfc_min = ds_sfc.min(axis=(0, 2), keepdims=True).compute()\n",
                "var_sfc_max = ds_sfc.max(axis=(0, 2), keepdims=True).compute()"
            ]
        },
        {
            "cell_type": "code",
            "execution_count": 12,
            "id": "4d6e92c2-2d20-49b1-9a5a-967b4a5969a1",
            "metadata": {},
            "outputs": [
                {
                    "data": {
                        "text/plain": [
                            "(1, 4, 1)"
                        ]
                    },
                    "execution_count": 12,
                    "metadata": {},
                    "output_type": "execute_result"
                }
            ],
            "source": [
                "var_sfc_max.shape"
            ]
        },
        {
            "cell_type": "code",
            "execution_count": 13,
            "id": "a31d7bf3-813c-4526-ba00-75b1c327f7fb",
            "metadata": {},
            "outputs": [
                {
                    "data": {
                        "text/plain": [
                            "(4, 2)"
                        ]
                    },
                    "execution_count": 13,
                    "metadata": {},
                    "output_type": "execute_result"
                }
            ],
            "source": [
                "var_2d_stats = np.zeros((var_sfc_means.shape[1], 2), dtype=np.float32)\n",
                "var_2d_stats.shape"
            ]
        },
        {
            "cell_type": "code",
            "execution_count": 14,
            "id": "54f76466-a0c7-446a-b8c1-fd2b021328aa",
            "metadata": {},
            "outputs": [],
            "source": [
                "# blh\n",
                "var_2d_stats[0, 0] = var_sfc_min[:, 0, ...].squeeze()\n",
                "var_2d_stats[0, 1] = var_sfc_max[:, 0, ...].squeeze()\n",
                "# lsm\n",
                "var_2d_stats[1, 0] = 0.0\n",
                "var_2d_stats[1, 1] = 1.0\n",
                "# msl\n",
                "var_2d_stats[2, 0] = var_sfc_means[:, 2, ...].squeeze()\n",
                "var_2d_stats[2, 1] = var_sfc_sds[:, 2, ...].squeeze()\n",
                "# z - needs special treatment\n",
                "z_min, z_max = ds_sfc[0, -1, ...].min().compute(), ds_sfc[0, -1, ...].max().compute()\n",
                "var_2d_stats[3, 0] = z_min\n",
                "var_2d_stats[3, 1] = z_max"
            ]
        },
        {
            "cell_type": "code",
            "execution_count": 15,
            "id": "01b91909-c7af-4a69-a0a3-a3dc21097197",
            "metadata": {},
            "outputs": [
                {
                    "data": {
                        "text/plain": [
                            "array([[ 7.1217775e+00,  7.2502432e+03],\n",
                            "       [ 0.0000000e+00,  1.0000000e+00],\n",
                            "       [ 1.0115370e+05,  7.4635583e+02],\n",
                            "       [-7.5737769e+02,  5.4746457e+04]], dtype=float32)"
                        ]
                    },
                    "execution_count": 15,
                    "metadata": {},
                    "output_type": "execute_result"
                }
            ],
            "source": [
                "var_2d_stats"
            ]
        },
        {
            "cell_type": "code",
            "execution_count": 17,
            "id": "1ff4735e-3292-40a0-916a-64d056d700dd",
            "metadata": {},
            "outputs": [],
            "source": [
                "resolution = \"o160\"\n",
                "var_2d_file = f\"/ec/res4/scratch/syma/era5/{resolution}/zarr/statistics/sfc_1979_2016.npy\"\n",
                "\n",
                "np.save(var_2d_file, var_2d_stats, allow_pickle=False)"
            ]
        },
        {
            "cell_type": "code",
            "execution_count": null,
            "id": "351c0a88-49a4-4bf4-8143-e1b6649dbbf3",
            "metadata": {},
            "outputs": [],
            "source": []
        }
    ],
    "metadata": {
        "kernelspec": {
            "display_name": "gnn-pyg-2.1",
            "language": "python",
            "name": "gnn-pyg-2.1"
        },
        "language_info": {
            "codemirror_mode": {
                "name": "ipython",
                "version": 3
            },
            "file_extension": ".py",
            "mimetype": "text/x-python",
            "name": "python",
            "nbconvert_exporter": "python",
            "pygments_lexer": "ipython3",
            "version": "3.9.13"
        }
    },
    "nbformat": 4,
    "nbformat_minor": 5
}