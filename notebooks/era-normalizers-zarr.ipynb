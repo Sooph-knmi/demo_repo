{
    "cells": [
        {
            "cell_type": "code",
            "execution_count": 1,
            "metadata": {},
            "outputs": [],
            "source": [
                "import zarr\n",
                "import torch\n",
                "import numpy as np"
            ]
        },
        {
            "cell_type": "code",
            "execution_count": 2,
            "metadata": {},
            "outputs": [],
            "source": [
                "import cartopy.crs as ccrs\n",
                "import cartopy.feature as cf\n",
                "\n",
                "import matplotlib.patches as mpatches\n",
                "import matplotlib.pyplot as plt\n",
                "\n",
                "%matplotlib inline\n",
                "%config InlineBackend.figure_format='retina'"
            ]
        },
        {
            "cell_type": "code",
            "execution_count": 3,
            "metadata": {},
            "outputs": [],
            "source": [
                "from aifs.utils.config import YAMLConfig\n",
                "config = YAMLConfig(\"/config/atos.yaml\")"
            ]
        },
        {
            "cell_type": "code",
            "execution_count": 4,
            "metadata": {},
            "outputs": [
                {
                    "data": {
                        "text/plain": [
                            "<zarr.core.Array (54056, 99, 40320) float32 read-only>"
                        ]
                    },
                    "metadata": {},
                    "output_type": "display_data"
                }
            ],
            "source": [
                "import dask.array\n",
                "\n",
                "fname = '/lus/h2resw01/fws4/lb/project/ai-ml/panguweather-o96/panguweather-o96-1979-2015.zarr'\n",
                "ds_wb = zarr.open(fname, mode=\"r\")\n",
                "display(ds_wb)"
            ]
        },
        {
            "cell_type": "code",
            "execution_count": 5,
            "metadata": {},
            "outputs": [
                {
                    "data": {
                        "text/plain": [
                            "['cos_latitude',\n",
                            " 'cos_longitude',\n",
                            " 'sin_latitude',\n",
                            " 'sin_longitude',\n",
                            " 'cos_julian_day',\n",
                            " 'cos_local_time',\n",
                            " 'sin_julian_day',\n",
                            " 'sin_local_time',\n",
                            " 'insolation']"
                        ]
                    },
                    "execution_count": 5,
                    "metadata": {},
                    "output_type": "execute_result"
                }
            ],
            "source": [
                "ds_wb.attrs[\"climetlab\"][\"config\"][\"input\"][\"constants\"]"
            ]
        },
        {
            "cell_type": "code",
            "execution_count": 6,
            "metadata": {},
            "outputs": [
                {
                    "data": {
                        "text/plain": [
                            "[{'date': '$dates',\n",
                            "  'levtype': 'sfc',\n",
                            "  'name': 'panguweather-training-o96',\n",
                            "  'param': ['z',\n",
                            "   'sp',\n",
                            "   'msl',\n",
                            "   'blh',\n",
                            "   'lsm',\n",
                            "   'sst',\n",
                            "   'sdor',\n",
                            "   'slor',\n",
                            "   '10u',\n",
                            "   '10v',\n",
                            "   '2t',\n",
                            "   '2d'],\n",
                            "  'time': [0, 600, 1200, 1800]},\n",
                            " {'level': [50, 100, 150, 200, 250, 300, 400, 500, 600, 700, 850, 925, 1000],\n",
                            "  'levtype': 'pl',\n",
                            "  'name': 'panguweather-training-o96',\n",
                            "  'param': ['q', 't', 'u', 'v', 'w', 'z']}]"
                        ]
                    },
                    "execution_count": 6,
                    "metadata": {},
                    "output_type": "execute_result"
                }
            ],
            "source": [
                "ds_wb.attrs[\"climetlab\"][\"config\"][\"input\"][\"dataset\"]"
            ]
        },
        {
            "cell_type": "code",
            "execution_count": 7,
            "metadata": {},
            "outputs": [
                {
                    "data": {
                        "text/plain": [
                            "{'10u': 82,\n",
                            " '10v': 83,\n",
                            " '2d': 85,\n",
                            " '2t': 84,\n",
                            " 'blh': 80,\n",
                            " 'cos_julian_day': 94,\n",
                            " 'cos_latitude': 90,\n",
                            " 'cos_local_time': 95,\n",
                            " 'cos_longitude': 91,\n",
                            " 'insolation': 98,\n",
                            " 'lsm': 87,\n",
                            " 'msl': 79,\n",
                            " 'q_100': 1,\n",
                            " 'q_1000': 12,\n",
                            " 'q_150': 2,\n",
                            " 'q_200': 3,\n",
                            " 'q_250': 4,\n",
                            " 'q_300': 5,\n",
                            " 'q_400': 6,\n",
                            " 'q_50': 0,\n",
                            " 'q_500': 7,\n",
                            " 'q_600': 8,\n",
                            " 'q_700': 9,\n",
                            " 'q_850': 10,\n",
                            " 'q_925': 11,\n",
                            " 'sdor': 88,\n",
                            " 'sin_julian_day': 96,\n",
                            " 'sin_latitude': 92,\n",
                            " 'sin_local_time': 97,\n",
                            " 'sin_longitude': 93,\n",
                            " 'slor': 89,\n",
                            " 'sp': 78,\n",
                            " 'sst': 81,\n",
                            " 't_100': 14,\n",
                            " 't_1000': 25,\n",
                            " 't_150': 15,\n",
                            " 't_200': 16,\n",
                            " 't_250': 17,\n",
                            " 't_300': 18,\n",
                            " 't_400': 19,\n",
                            " 't_50': 13,\n",
                            " 't_500': 20,\n",
                            " 't_600': 21,\n",
                            " 't_700': 22,\n",
                            " 't_850': 23,\n",
                            " 't_925': 24,\n",
                            " 'u_100': 27,\n",
                            " 'u_1000': 38,\n",
                            " 'u_150': 28,\n",
                            " 'u_200': 29,\n",
                            " 'u_250': 30,\n",
                            " 'u_300': 31,\n",
                            " 'u_400': 32,\n",
                            " 'u_50': 26,\n",
                            " 'u_500': 33,\n",
                            " 'u_600': 34,\n",
                            " 'u_700': 35,\n",
                            " 'u_850': 36,\n",
                            " 'u_925': 37,\n",
                            " 'v_100': 40,\n",
                            " 'v_1000': 51,\n",
                            " 'v_150': 41,\n",
                            " 'v_200': 42,\n",
                            " 'v_250': 43,\n",
                            " 'v_300': 44,\n",
                            " 'v_400': 45,\n",
                            " 'v_50': 39,\n",
                            " 'v_500': 46,\n",
                            " 'v_600': 47,\n",
                            " 'v_700': 48,\n",
                            " 'v_850': 49,\n",
                            " 'v_925': 50,\n",
                            " 'w_100': 53,\n",
                            " 'w_1000': 64,\n",
                            " 'w_150': 54,\n",
                            " 'w_200': 55,\n",
                            " 'w_250': 56,\n",
                            " 'w_300': 57,\n",
                            " 'w_400': 58,\n",
                            " 'w_50': 52,\n",
                            " 'w_500': 59,\n",
                            " 'w_600': 60,\n",
                            " 'w_700': 61,\n",
                            " 'w_850': 62,\n",
                            " 'w_925': 63,\n",
                            " 'z': 86,\n",
                            " 'z_100': 66,\n",
                            " 'z_1000': 77,\n",
                            " 'z_150': 67,\n",
                            " 'z_200': 68,\n",
                            " 'z_250': 69,\n",
                            " 'z_300': 70,\n",
                            " 'z_400': 71,\n",
                            " 'z_50': 65,\n",
                            " 'z_500': 72,\n",
                            " 'z_600': 73,\n",
                            " 'z_700': 74,\n",
                            " 'z_850': 75,\n",
                            " 'z_925': 76}"
                        ]
                    },
                    "execution_count": 7,
                    "metadata": {},
                    "output_type": "execute_result"
                }
            ],
            "source": [
                "ds_wb.attrs[\"climetlab\"][\"name_to_index\"]"
            ]
        },
        {
            "cell_type": "code",
            "execution_count": 8,
            "metadata": {},
            "outputs": [
                {
                    "data": {
                        "text/plain": [
                            "(0.0, 1.0342864990234375)"
                        ]
                    },
                    "execution_count": 8,
                    "metadata": {},
                    "output_type": "execute_result"
                }
            ],
            "source": [
                "insolation_idx = ds_wb.attrs[\"climetlab\"][\"name_to_index\"][\"insolation\"]\n",
                "insolation_min = ds_wb.attrs[\"climetlab\"][\"statistics_by_index\"][\"minimum\"][insolation_idx]\n",
                "insolation_max = ds_wb.attrs[\"climetlab\"][\"statistics_by_index\"][\"maximum\"][insolation_idx]\n",
                "insolation_min, insolation_max"
            ]
        },
        {
            "cell_type": "code",
            "execution_count": 9,
            "metadata": {},
            "outputs": [
                {
                    "data": {
                        "text/plain": [
                            "(0.0, 1.0)"
                        ]
                    },
                    "execution_count": 9,
                    "metadata": {},
                    "output_type": "execute_result"
                }
            ],
            "source": [
                "lsm_idx = ds_wb.attrs[\"climetlab\"][\"name_to_index\"][\"lsm\"]\n",
                "lsm_min = ds_wb.attrs[\"climetlab\"][\"statistics_by_index\"][\"minimum\"][lsm_idx]\n",
                "lsm_max = ds_wb.attrs[\"climetlab\"][\"statistics_by_index\"][\"maximum\"][lsm_idx]\n",
                "lsm_min, lsm_max"
            ]
        },
        {
            "cell_type": "code",
            "execution_count": 12,
            "metadata": {},
            "outputs": [
                {
                    "name": "stdout",
                    "output_type": "stream",
                    "text": [
                        "cos_latitude 0.012492261313318816 0.9999667077650453\n",
                        "cos_longitude -1.0 1.0\n",
                        "sin_latitude -0.9999219686591948 0.9999219686591948\n",
                        "sin_longitude -1.0 1.0\n",
                        "cos_julian_day -0.9999976880994382 1.0\n",
                        "cos_local_time -1.0 1.0\n",
                        "sin_julian_day -0.9999994220246925 0.9999994220246925\n",
                        "sin_local_time -1.0 1.0\n",
                        "insolation 0.0 1.0342864990234375\n"
                    ]
                }
            ],
            "source": [
                "for cst in ds_wb.attrs[\"climetlab\"][\"config\"][\"input\"][\"constants\"]:\n",
                "    cst_idx = ds_wb.attrs[\"climetlab\"][\"name_to_index\"][cst]\n",
                "    cst_min = ds_wb.attrs[\"climetlab\"][\"statistics_by_index\"][\"minimum\"][cst_idx]\n",
                "    cst_max = ds_wb.attrs[\"climetlab\"][\"statistics_by_index\"][\"maximum\"][cst_idx]\n",
                "    print(cst, cst_min, cst_max)"
            ]
        },
        {
            "cell_type": "code",
            "execution_count": 13,
            "metadata": {},
            "outputs": [
                {
                    "data": {
                        "text/plain": [
                            "[90, 91, 92, 93, 94, 95, 96, 97, 98]"
                        ]
                    },
                    "execution_count": 13,
                    "metadata": {},
                    "output_type": "execute_result"
                }
            ],
            "source": [
                "const_idx = [ds_wb.attrs[\"climetlab\"][\"name_to_index\"][cst] for cst in ds_wb.attrs[\"climetlab\"][\"config\"][\"input\"][\"constants\"]]\n",
                "const_idx"
            ]
        },
        {
            "cell_type": "code",
            "execution_count": 14,
            "metadata": {},
            "outputs": [
                {
                    "data": {
                        "text/plain": [
                            "9"
                        ]
                    },
                    "execution_count": 14,
                    "metadata": {},
                    "output_type": "execute_result"
                }
            ],
            "source": [
                "len(const_idx)"
            ]
        },
        {
            "cell_type": "code",
            "execution_count": 15,
            "metadata": {},
            "outputs": [
                {
                    "data": {
                        "text/plain": [
                            "[{'date': '$dates',\n",
                            "  'levtype': 'sfc',\n",
                            "  'name': 'panguweather-training-o96',\n",
                            "  'param': ['z',\n",
                            "   'sp',\n",
                            "   'msl',\n",
                            "   'blh',\n",
                            "   'lsm',\n",
                            "   'sst',\n",
                            "   'sdor',\n",
                            "   'slor',\n",
                            "   '10u',\n",
                            "   '10v',\n",
                            "   '2t',\n",
                            "   '2d'],\n",
                            "  'time': [0, 600, 1200, 1800]},\n",
                            " {'level': [50, 100, 150, 200, 250, 300, 400, 500, 600, 700, 850, 925, 1000],\n",
                            "  'levtype': 'pl',\n",
                            "  'name': 'panguweather-training-o96',\n",
                            "  'param': ['q', 't', 'u', 'v', 'w', 'z']}]"
                        ]
                    },
                    "execution_count": 15,
                    "metadata": {},
                    "output_type": "execute_result"
                }
            ],
            "source": [
                "ds_wb.attrs[\"climetlab\"][\"config\"][\"input\"][\"dataset\"]"
            ]
        },
        {
            "cell_type": "code",
            "execution_count": 16,
            "metadata": {},
            "outputs": [
                {
                    "name": "stdout",
                    "output_type": "stream",
                    "text": [
                        "z 86 -986.0078125 54284.23046875\n",
                        "slor 89 9.999997564591467e-05 0.1451106054300908\n",
                        "sdor 88 0.0 880.1491088867188\n",
                        "lsm 87 0.0 1.0\n"
                    ]
                }
            ],
            "source": [
                "for cst in [\"z\", \"slor\", \"sdor\", \"lsm\"]:\n",
                "    cst_idx = ds_wb.attrs[\"climetlab\"][\"name_to_index\"][cst]\n",
                "    cst_min = ds_wb.attrs[\"climetlab\"][\"statistics_by_index\"][\"minimum\"][cst_idx]\n",
                "    cst_max = ds_wb.attrs[\"climetlab\"][\"statistics_by_index\"][\"maximum\"][cst_idx]\n",
                "    print(cst, cst_idx, cst_min, cst_max)"
            ]
        },
        {
            "cell_type": "code",
            "execution_count": 17,
            "metadata": {},
            "outputs": [
                {
                    "data": {
                        "text/plain": [
                            "'50|100|150|200|250|300|400|500|600|700|850|925|1000'"
                        ]
                    },
                    "execution_count": 17,
                    "metadata": {},
                    "output_type": "execute_result"
                }
            ],
            "source": [
                "levels = ds_wb.attrs[\"climetlab\"][\"config\"][\"input\"][\"dataset\"][1][\"level\"]\n",
                "levels = \"|\".join([str(l) for l in levels])\n",
                "levels"
            ]
        },
        {
            "cell_type": "code",
            "execution_count": 18,
            "metadata": {},
            "outputs": [
                {
                    "data": {
                        "text/plain": [
                            "'^[qtuvwz]_(50|100|150|200|250|300|400|500|600|700|850|925|1000)$'"
                        ]
                    },
                    "execution_count": 18,
                    "metadata": {},
                    "output_type": "execute_result"
                }
            ],
            "source": [
                "import re\n",
                "\n",
                "lev_regex = f\"({levels})\"\n",
                "regex_pattern = r'^[qtuvwz]_' + lev_regex + '$'\n",
                "regex_pattern"
            ]
        },
        {
            "cell_type": "code",
            "execution_count": 19,
            "metadata": {},
            "outputs": [
                {
                    "data": {
                        "text/plain": [
                            "['10u',\n",
                            " '10v',\n",
                            " '2d',\n",
                            " '2t',\n",
                            " 'blh',\n",
                            " 'cos_julian_day',\n",
                            " 'cos_latitude',\n",
                            " 'cos_local_time',\n",
                            " 'cos_longitude',\n",
                            " 'insolation',\n",
                            " 'lsm',\n",
                            " 'msl',\n",
                            " 'q_100',\n",
                            " 'q_1000',\n",
                            " 'q_150',\n",
                            " 'q_200',\n",
                            " 'q_250',\n",
                            " 'q_300',\n",
                            " 'q_400',\n",
                            " 'q_50',\n",
                            " 'q_500',\n",
                            " 'q_600',\n",
                            " 'q_700',\n",
                            " 'q_850',\n",
                            " 'q_925',\n",
                            " 'sdor',\n",
                            " 'sin_julian_day',\n",
                            " 'sin_latitude',\n",
                            " 'sin_local_time',\n",
                            " 'sin_longitude',\n",
                            " 'slor',\n",
                            " 'sp',\n",
                            " 'sst',\n",
                            " 't_100',\n",
                            " 't_1000',\n",
                            " 't_150',\n",
                            " 't_200',\n",
                            " 't_250',\n",
                            " 't_300',\n",
                            " 't_400',\n",
                            " 't_50',\n",
                            " 't_500',\n",
                            " 't_600',\n",
                            " 't_700',\n",
                            " 't_850',\n",
                            " 't_925',\n",
                            " 'u_100',\n",
                            " 'u_1000',\n",
                            " 'u_150',\n",
                            " 'u_200',\n",
                            " 'u_250',\n",
                            " 'u_300',\n",
                            " 'u_400',\n",
                            " 'u_50',\n",
                            " 'u_500',\n",
                            " 'u_600',\n",
                            " 'u_700',\n",
                            " 'u_850',\n",
                            " 'u_925',\n",
                            " 'v_100',\n",
                            " 'v_1000',\n",
                            " 'v_150',\n",
                            " 'v_200',\n",
                            " 'v_250',\n",
                            " 'v_300',\n",
                            " 'v_400',\n",
                            " 'v_50',\n",
                            " 'v_500',\n",
                            " 'v_600',\n",
                            " 'v_700',\n",
                            " 'v_850',\n",
                            " 'v_925',\n",
                            " 'w_100',\n",
                            " 'w_1000',\n",
                            " 'w_150',\n",
                            " 'w_200',\n",
                            " 'w_250',\n",
                            " 'w_300',\n",
                            " 'w_400',\n",
                            " 'w_50',\n",
                            " 'w_500',\n",
                            " 'w_600',\n",
                            " 'w_700',\n",
                            " 'w_850',\n",
                            " 'w_925',\n",
                            " 'z',\n",
                            " 'z_100',\n",
                            " 'z_1000',\n",
                            " 'z_150',\n",
                            " 'z_200',\n",
                            " 'z_250',\n",
                            " 'z_300',\n",
                            " 'z_400',\n",
                            " 'z_50',\n",
                            " 'z_500',\n",
                            " 'z_600',\n",
                            " 'z_700',\n",
                            " 'z_850',\n",
                            " 'z_925']"
                        ]
                    },
                    "execution_count": 19,
                    "metadata": {},
                    "output_type": "execute_result"
                }
            ],
            "source": [
                "vnames = list(ds_wb.attrs[\"climetlab\"][\"name_to_index\"])\n",
                "vnames"
            ]
        },
        {
            "cell_type": "code",
            "execution_count": null,
            "metadata": {},
            "outputs": [],
            "source": [
                "varidx = []\n",
                "for v in vnames:\n",
                "    if re.match(regex_pattern, v):\n",
                "        varidx.append(ds_wb.attrs[\"climetlab\"][\"name_to_index\"][v])\n",
                "varidx = np.array(sorted(varidx), dtype=np.int32)\n",
                "varidx.T"
            ]
        },
        {
            "cell_type": "code",
            "execution_count": 24,
            "metadata": {},
            "outputs": [
                {
                    "data": {
                        "text/plain": [
                            "array([10, 23, 36, 49, 75, 84, 82, 83, 79, 80], dtype=int32)"
                        ]
                    },
                    "execution_count": 24,
                    "metadata": {},
                    "output_type": "execute_result"
                }
            ],
            "source": [
                "varidx = []\n",
                "for v in [\"q_850\", \"t_850\", \"u_850\", \"v_850\", \"z_850\", \"2t\", \"10u\", \"10v\", \"msl\", \"blh\"]:\n",
                "    varidx.append(ds_wb.attrs[\"climetlab\"][\"name_to_index\"][v])\n",
                "varidx = np.array(varidx, dtype=np.int32)\n",
                "varidx.T"
            ]
        },
        {
            "cell_type": "code",
            "execution_count": null,
            "metadata": {},
            "outputs": [],
            "source": [
                "ds_wb.attrs[\"climetlab\"][\"statistics_by_index\"].keys()"
            ]
        },
        {
            "attachments": {},
            "cell_type": "markdown",
            "metadata": {},
            "source": [
                "## Normalization layer"
            ]
        },
        {
            "cell_type": "code",
            "execution_count": null,
            "metadata": {},
            "outputs": [],
            "source": [
                "from typing import Dict\n",
                "\n",
                "import numpy as np\n",
                "import torch\n",
                "from torch import nn\n",
                "\n",
                "from aifs.utils.logger import get_code_logger\n",
                "\n",
                "LOGGER = get_code_logger(__name__, debug=True)"
            ]
        },
        {
            "cell_type": "code",
            "execution_count": null,
            "metadata": {},
            "outputs": [],
            "source": [
                "# these variables have sensible ranges to we leave them untouched\n",
                "DO_NOT_NORMALIZE = [\n",
                "    \"cos_latitude\",\n",
                "    \"cos_longitude\",\n",
                "    \"sin_latitude\",\n",
                "    \"sin_longitude\",\n",
                "    \"cos_julian_day\",\n",
                "    \"cos_local_time\",\n",
                "    \"sin_julian_day\",\n",
                "    \"sin_local_time\",\n",
                "    \"insolation\",\n",
                "    \"lsm\",\n",
                "]\n",
                "\n",
                "MAX_NORMALIZE = [\"blh\", \"sdor\", \"slor\", \"z\"]\n",
                "\n",
                "\n",
                "class InputNormalizer(nn.Module):\n",
                "    def __init__(self, zarr_metadata: Dict) -> None:\n",
                "        super().__init__()\n",
                "        self._zarr_metadata = zarr_metadata\n",
                "\n",
                "        self._max_norm_idx = np.array(\n",
                "            sorted([self._zarr_metadata[\"name_to_index\"][var] for var in MAX_NORMALIZE]),\n",
                "            dtype=np.int32,\n",
                "        )\n",
                "        LOGGER.debug(\"_max_norm_idx: %s\", self._max_norm_idx)\n",
                "\n",
                "        self._max_norm = torch.from_numpy(\n",
                "            np.array(\n",
                "                [self._zarr_metadata[\"statistics_by_index\"][\"maximum\"][vidx] for vidx in self._max_norm_idx],\n",
                "                dtype=np.float32,\n",
                "            )\n",
                "        )[None, None, :]\n",
                "\n",
                "        # for the rest, we map to unit gaussian\n",
                "        self._std_norm_idx = []\n",
                "        self._std_norm_mu = []\n",
                "        self._std_norm_sd = []\n",
                "\n",
                "        for vname in list(self._zarr_metadata[\"name_to_index\"]):\n",
                "            if vname not in DO_NOT_NORMALIZE and vname not in MAX_NORMALIZE:\n",
                "                self._std_norm_idx.append(self._zarr_metadata[\"name_to_index\"][vname])\n",
                "\n",
                "        self._std_norm_idx = sorted(self._std_norm_idx)\n",
                "        LOGGER.debug(\"_std_norm_idx: %s\", self._std_norm_idx)\n",
                "\n",
                "        for vidx in self._std_norm_idx:\n",
                "            self._std_norm_mu.append(self._zarr_metadata[\"statistics_by_index\"][\"mean\"][vidx])\n",
                "            self._std_norm_sd.append(self._zarr_metadata[\"statistics_by_index\"][\"stdev\"][vidx])\n",
                "\n",
                "        self._std_norm_idx = torch.from_numpy(np.array(self._std_norm_idx, dtype=np.int32))\n",
                "        self._std_norm_mu = torch.from_numpy(np.array(self._std_norm_mu, dtype=np.float32))[None, None, :]\n",
                "        self._std_norm_sd = torch.from_numpy(np.array(self._std_norm_sd, dtype=np.float32))[None, None, :]\n",
                "\n",
                "    def _normalize(self, x: torch.Tensor) -> torch.Tensor:\n",
                "        # Expects a tensor of shape [bs, latlon, nvars]\n",
                "        print(\"calling normalize ...\", self._max_norm_idx, x.shape)\n",
                "        x[..., self._max_norm_idx] = x[..., self._max_norm_idx] / self._max_norm\n",
                "        x[..., self._std_norm_idx] = (x[..., self._std_norm_idx] - self._std_norm_mu) / self._std_norm_sd\n",
                "        return x\n",
                "\n",
                "    def forward(self, x: torch.Tensor) -> torch.Tensor:\n",
                "        print(\"calling forward...\")\n",
                "        return self._normalize(x)\n",
                "\n",
                "    def denormalize(self, x: torch.Tensor) -> torch.Tensor:\n",
                "        # Expects a tensor of shape [bs, latlon, nvars]\n",
                "        x[..., self._max_norm_idx] = x[..., self._max_norm_idx] * self._max_norm\n",
                "        x[..., self._std_norm_idx] = (x[..., self._std_norm_idx] * self._std_norm_sd + self._std_norm_mu)\n",
                "        return x\n"
            ]
        },
        {
            "attachments": {},
            "cell_type": "markdown",
            "metadata": {},
            "source": [
                "## Test the normalization layer with the dataloader"
            ]
        },
        {
            "cell_type": "code",
            "execution_count": null,
            "metadata": {},
            "outputs": [],
            "source": [
                "from torch.utils.data import DataLoader\n",
                "import os\n",
                "\n",
                "from aifs.data.datamodule import era_batch_collator, read_era_data\n",
                "from aifs.data.dataset import NativeGridDataset, worker_init_func"
            ]
        },
        {
            "cell_type": "code",
            "execution_count": null,
            "metadata": {},
            "outputs": [],
            "source": [
                "_ROLLOUT = 2\n",
                "\n",
                "def _get_data_filename(stage: str) -> str:\n",
                "        # field_type == [pl | sfc], stage == [training | validation]\n",
                "        return os.path.join(\n",
                "            config[f\"input:{stage}:basedir\"].format(resolution=config[\"input:resolution\"]),\n",
                "            config[f\"input:{stage}:filename\"].format(resolution=config[\"input:resolution\"]),\n",
                "        )"
            ]
        },
        {
            "cell_type": "code",
            "execution_count": null,
            "metadata": {},
            "outputs": [],
            "source": [
                "era5_ds = NativeGridDataset(\n",
                "        fname=_get_data_filename(\"validation\"),\n",
                "        era_data_reader=read_era_data,\n",
                "        lead_time=config[\"model:lead-time\"],\n",
                "        rollout=_ROLLOUT,\n",
                "        rank=int(os.environ.get(\"LOCAL_RANK\", \"0\")),\n",
                "        world_size=config[\"model:num-gpus\"] * config[\"model:num-nodes\"],\n",
                "    )\n",
                "\n",
                "era5_dl = DataLoader(\n",
                "        era5_ds,\n",
                "        batch_size=4,\n",
                "        num_workers=1,\n",
                "        collate_fn=era_batch_collator,\n",
                "        worker_init_fn=worker_init_func,\n",
                "    )"
            ]
        },
        {
            "cell_type": "code",
            "execution_count": null,
            "metadata": {},
            "outputs": [],
            "source": [
                "for idx_batch, batch in enumerate(era5_dl):\n",
                "    LOGGER.info(\"Batch index: %d - X.shape: %s idx: %s\", idx_batch, batch.X.shape, batch.idx)\n",
                "    assert len(batch) == (_ROLLOUT + 1)\n",
                "    for r in range(len(batch)):\n",
                "        LOGGER.debug(\"Rollout step %d: batch.X.shape = %s\", r, batch.X[:, r, ...].shape)\n",
                "    if idx_batch > 1:\n",
                "        break"
            ]
        },
        {
            "cell_type": "code",
            "execution_count": null,
            "metadata": {},
            "outputs": [],
            "source": [
                "normalizer = InputNormalizer(ds_wb.attrs[\"climetlab\"])\n",
                "normalizer._std_norm_mu.shape"
            ]
        },
        {
            "cell_type": "code",
            "execution_count": null,
            "metadata": {},
            "outputs": [],
            "source": [
                "rstep = 0\n",
                "X_normed = normalizer(batch.X[:, rstep, ...].clone())\n",
                "X_normed.shape"
            ]
        },
        {
            "cell_type": "code",
            "execution_count": null,
            "metadata": {},
            "outputs": [],
            "source": [
                "X_normed.sum().sqrt()"
            ]
        },
        {
            "cell_type": "code",
            "execution_count": null,
            "metadata": {},
            "outputs": [],
            "source": [
                "batch.X[:, rstep, ...].sum().sqrt()"
            ]
        },
        {
            "cell_type": "code",
            "execution_count": null,
            "metadata": {},
            "outputs": [],
            "source": [
                "X_retrieved = normalizer.denormalize(X_normed.clone())\n",
                "X_retrieved.shape"
            ]
        },
        {
            "cell_type": "code",
            "execution_count": null,
            "metadata": {},
            "outputs": [],
            "source": [
                "X_retrieved.sum().sqrt()"
            ]
        },
        {
            "cell_type": "code",
            "execution_count": null,
            "metadata": {},
            "outputs": [],
            "source": [
                "torch.allclose(batch.X[:, rstep, ...], X_retrieved, atol=1e-4, rtol=1e-4)"
            ]
        },
        {
            "cell_type": "code",
            "execution_count": null,
            "metadata": {},
            "outputs": [],
            "source": [
                "torch.allclose(batch.X[:, rstep, ...], X_normed, atol=1e-4, rtol=1e-4)"
            ]
        },
        {
            "cell_type": "code",
            "execution_count": null,
            "metadata": {},
            "outputs": [],
            "source": [
                "from matplotlib import colors\n",
                "\n",
                "def scatter_plot(fig, ax, pc, lat, lon, x, title=None) -> None:\n",
                "    \"\"\"Lat-lon scatter plot: can work with arbitrary grids.\"\"\"\n",
                "    ax.set_global()\n",
                "    ax.add_feature(cf.COASTLINE, edgecolor=\"black\", linewidth=0.5)\n",
                "\n",
                "    psc = ax.scatter(\n",
                "        x=lon,\n",
                "        y=lat,\n",
                "        c=x,\n",
                "        cmap=\"bwr\",\n",
                "        s=1,\n",
                "        alpha=1.0,\n",
                "        transform=pc,\n",
                "        norm=colors.TwoSlopeNorm(vcenter=0.0),\n",
                "    )\n",
                "    if title is not None:\n",
                "        ax.set_title(title)\n",
                "    ax.set_aspect(\"auto\", adjustable=None)\n",
                "    fig.colorbar(psc, ax=ax)"
            ]
        },
        {
            "cell_type": "code",
            "execution_count": null,
            "metadata": {},
            "outputs": [],
            "source": [
                "graph_data = torch.load(\n",
                "    os.path.join(config[\"graph:data-basedir\"], config[\"graph:data-file\"].format(resolution=config[\"input:resolution\"]))\n",
                ")\n",
                "graph_data"
            ]
        },
        {
            "cell_type": "code",
            "execution_count": null,
            "metadata": {},
            "outputs": [],
            "source": [
                "latlons = graph_data[(\"era\", \"to\", \"era\")].ecoords_rad\n",
                "latlons = np.rad2deg(latlons)"
            ]
        },
        {
            "cell_type": "code",
            "execution_count": null,
            "metadata": {},
            "outputs": [],
            "source": [
                "lats, lons = latlons[:, 0], latlons[:, 1]"
            ]
        },
        {
            "cell_type": "code",
            "execution_count": null,
            "metadata": {},
            "outputs": [],
            "source": [
                "# lsm (idx == 87) - should be the same in both plots\n",
                "lsm_idx = 87"
            ]
        },
        {
            "cell_type": "code",
            "execution_count": null,
            "metadata": {},
            "outputs": [],
            "source": [
                "import matplotlib.cm as cm\n",
                "\n",
                "\n",
                "def plot_variable(idx: int, title=None, cmap_=\"reds\") -> None:\n",
                "    figsize = (10, 3)\n",
                "    fig, ax = plt.subplots(1, 2, figsize=figsize, subplot_kw={\"projection\": ccrs.PlateCarree()})\n",
                "    pc = ccrs.PlateCarree()\n",
                "\n",
                "    cmap = cm.Reds if cmap_ == \"reds\" else cm.bwr\n",
                "    cmap.set_bad(color=\"gray\")\n",
                "\n",
                "    scatter_plot(fig, ax[0], pc, lats, lons, batch.X[0, rstep, :, idx], title=title)\n",
                "    scatter_plot(fig, ax[1], pc, lats, lons, X_normed[0, :, idx], title=title + \"_t\")"
            ]
        },
        {
            "cell_type": "code",
            "execution_count": null,
            "metadata": {},
            "outputs": [],
            "source": [
                "plot_variable(lsm_idx, \"lsm\", cmap_=\"reds\")"
            ]
        },
        {
            "cell_type": "code",
            "execution_count": null,
            "metadata": {},
            "outputs": [],
            "source": [
                "z_idx=86\n",
                "plot_variable(lsm_idx, title=\"z\")\n",
                "slor_idx=89\n",
                "plot_variable(slor_idx, title=\"slor\")\n",
                "sdor_idx=88\n",
                "plot_variable(sdor_idx, title=\"sdor\")"
            ]
        },
        {
            "cell_type": "code",
            "execution_count": null,
            "metadata": {},
            "outputs": [],
            "source": [
                "idx=6 # q_400\n",
                "plot_variable(idx, title=\"q_400\", cmap_=\"bwr\")"
            ]
        },
        {
            "cell_type": "code",
            "execution_count": null,
            "metadata": {},
            "outputs": [],
            "source": []
        }
    ],
    "metadata": {
        "kernelspec": {
            "display_name": "gnn-pyg-2.3",
            "language": "python",
            "name": "python3"
        },
        "language_info": {
            "codemirror_mode": {
                "name": "ipython",
                "version": 3
            },
            "file_extension": ".py",
            "mimetype": "text/x-python",
            "name": "python",
            "nbconvert_exporter": "python",
            "pygments_lexer": "ipython3",
            "version": "3.9.16"
        },
        "orig_nbformat": 4
    },
    "nbformat": 4,
    "nbformat_minor": 2
}
